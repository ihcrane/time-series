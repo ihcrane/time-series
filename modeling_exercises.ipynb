{
 "cells": [
  {
   "cell_type": "code",
   "execution_count": 1,
   "id": "6cf66319",
   "metadata": {},
   "outputs": [],
   "source": [
    "# for presentation purposes\n",
    "import warnings\n",
    "warnings.filterwarnings(\"ignore\")\n",
    "\n",
    "# transform\n",
    "import numpy as np\n",
    "import pandas as pd\n",
    "\n",
    "# visualize \n",
    "import matplotlib.pyplot as plt\n",
    "import seaborn as sns\n",
    "\n",
    "# working with dates\n",
    "from datetime import datetime\n",
    "\n",
    "# modeling\n",
    "import statsmodels.api as sm\n",
    "from statsmodels.tsa.api import Holt, ExponentialSmoothing\n",
    "np.random.seed(0)\n",
    "\n",
    "# evaluate\n",
    "from sklearn.metrics import mean_squared_error\n",
    "from math import sqrt "
   ]
  },
  {
   "cell_type": "code",
   "execution_count": 6,
   "id": "911154d6",
   "metadata": {},
   "outputs": [
    {
     "data": {
      "text/html": [
       "<div>\n",
       "<style scoped>\n",
       "    .dataframe tbody tr th:only-of-type {\n",
       "        vertical-align: middle;\n",
       "    }\n",
       "\n",
       "    .dataframe tbody tr th {\n",
       "        vertical-align: top;\n",
       "    }\n",
       "\n",
       "    .dataframe thead th {\n",
       "        text-align: right;\n",
       "    }\n",
       "</style>\n",
       "<table border=\"1\" class=\"dataframe\">\n",
       "  <thead>\n",
       "    <tr style=\"text-align: right;\">\n",
       "      <th></th>\n",
       "      <th>Month_Invoiced</th>\n",
       "      <th>Customer_Id</th>\n",
       "      <th>Invoice_Id</th>\n",
       "      <th>Subscription_Type</th>\n",
       "      <th>Amount</th>\n",
       "    </tr>\n",
       "  </thead>\n",
       "  <tbody>\n",
       "    <tr>\n",
       "      <th>0</th>\n",
       "      <td>2014-01-31</td>\n",
       "      <td>1000000</td>\n",
       "      <td>5000000</td>\n",
       "      <td>0.0</td>\n",
       "      <td>0.0</td>\n",
       "    </tr>\n",
       "    <tr>\n",
       "      <th>1</th>\n",
       "      <td>2014-01-31</td>\n",
       "      <td>1000001</td>\n",
       "      <td>5000001</td>\n",
       "      <td>2.0</td>\n",
       "      <td>10.0</td>\n",
       "    </tr>\n",
       "    <tr>\n",
       "      <th>2</th>\n",
       "      <td>2014-01-31</td>\n",
       "      <td>1000002</td>\n",
       "      <td>5000002</td>\n",
       "      <td>0.0</td>\n",
       "      <td>0.0</td>\n",
       "    </tr>\n",
       "    <tr>\n",
       "      <th>3</th>\n",
       "      <td>2014-01-31</td>\n",
       "      <td>1000003</td>\n",
       "      <td>5000003</td>\n",
       "      <td>0.0</td>\n",
       "      <td>0.0</td>\n",
       "    </tr>\n",
       "    <tr>\n",
       "      <th>4</th>\n",
       "      <td>2014-01-31</td>\n",
       "      <td>1000004</td>\n",
       "      <td>5000004</td>\n",
       "      <td>1.0</td>\n",
       "      <td>5.0</td>\n",
       "    </tr>\n",
       "  </tbody>\n",
       "</table>\n",
       "</div>"
      ],
      "text/plain": [
       "  Month_Invoiced  Customer_Id  Invoice_Id  Subscription_Type  Amount\n",
       "0     2014-01-31      1000000     5000000                0.0     0.0\n",
       "1     2014-01-31      1000001     5000001                2.0    10.0\n",
       "2     2014-01-31      1000002     5000002                0.0     0.0\n",
       "3     2014-01-31      1000003     5000003                0.0     0.0\n",
       "4     2014-01-31      1000004     5000004                1.0     5.0"
      ]
     },
     "execution_count": 6,
     "metadata": {},
     "output_type": "execute_result"
    }
   ],
   "source": [
    "df = pd.read_csv('saas.csv')\n",
    "df.head()"
   ]
  },
  {
   "cell_type": "code",
   "execution_count": 7,
   "id": "078b8f7c",
   "metadata": {},
   "outputs": [],
   "source": [
    "df['Month_Invoiced'] = pd.to_datetime(df['Month_Invoiced'])\n",
    "df = df.set_index('Month_Invoiced').sort_index()"
   ]
  },
  {
   "cell_type": "code",
   "execution_count": 8,
   "id": "dc50850e",
   "metadata": {},
   "outputs": [
    {
     "data": {
      "text/html": [
       "<div>\n",
       "<style scoped>\n",
       "    .dataframe tbody tr th:only-of-type {\n",
       "        vertical-align: middle;\n",
       "    }\n",
       "\n",
       "    .dataframe tbody tr th {\n",
       "        vertical-align: top;\n",
       "    }\n",
       "\n",
       "    .dataframe thead th {\n",
       "        text-align: right;\n",
       "    }\n",
       "</style>\n",
       "<table border=\"1\" class=\"dataframe\">\n",
       "  <thead>\n",
       "    <tr style=\"text-align: right;\">\n",
       "      <th></th>\n",
       "      <th>Customer_Id</th>\n",
       "      <th>Invoice_Id</th>\n",
       "      <th>Subscription_Type</th>\n",
       "      <th>Amount</th>\n",
       "    </tr>\n",
       "    <tr>\n",
       "      <th>Month_Invoiced</th>\n",
       "      <th></th>\n",
       "      <th></th>\n",
       "      <th></th>\n",
       "      <th></th>\n",
       "    </tr>\n",
       "  </thead>\n",
       "  <tbody>\n",
       "    <tr>\n",
       "      <th>2014-01-31</th>\n",
       "      <td>1000000</td>\n",
       "      <td>5000000</td>\n",
       "      <td>0.0</td>\n",
       "      <td>0.0</td>\n",
       "    </tr>\n",
       "    <tr>\n",
       "      <th>2014-01-31</th>\n",
       "      <td>1000001</td>\n",
       "      <td>5000001</td>\n",
       "      <td>2.0</td>\n",
       "      <td>10.0</td>\n",
       "    </tr>\n",
       "    <tr>\n",
       "      <th>2014-01-31</th>\n",
       "      <td>1000002</td>\n",
       "      <td>5000002</td>\n",
       "      <td>0.0</td>\n",
       "      <td>0.0</td>\n",
       "    </tr>\n",
       "    <tr>\n",
       "      <th>2014-01-31</th>\n",
       "      <td>1000003</td>\n",
       "      <td>5000003</td>\n",
       "      <td>0.0</td>\n",
       "      <td>0.0</td>\n",
       "    </tr>\n",
       "    <tr>\n",
       "      <th>2014-01-31</th>\n",
       "      <td>1000004</td>\n",
       "      <td>5000004</td>\n",
       "      <td>1.0</td>\n",
       "      <td>5.0</td>\n",
       "    </tr>\n",
       "  </tbody>\n",
       "</table>\n",
       "</div>"
      ],
      "text/plain": [
       "                Customer_Id  Invoice_Id  Subscription_Type  Amount\n",
       "Month_Invoiced                                                    \n",
       "2014-01-31          1000000     5000000                0.0     0.0\n",
       "2014-01-31          1000001     5000001                2.0    10.0\n",
       "2014-01-31          1000002     5000002                0.0     0.0\n",
       "2014-01-31          1000003     5000003                0.0     0.0\n",
       "2014-01-31          1000004     5000004                1.0     5.0"
      ]
     },
     "execution_count": 8,
     "metadata": {},
     "output_type": "execute_result"
    }
   ],
   "source": [
    "df.head()"
   ]
  },
  {
   "cell_type": "code",
   "execution_count": 22,
   "id": "a5b89177",
   "metadata": {},
   "outputs": [
    {
     "data": {
      "text/html": [
       "<div>\n",
       "<style scoped>\n",
       "    .dataframe tbody tr th:only-of-type {\n",
       "        vertical-align: middle;\n",
       "    }\n",
       "\n",
       "    .dataframe tbody tr th {\n",
       "        vertical-align: top;\n",
       "    }\n",
       "\n",
       "    .dataframe thead th {\n",
       "        text-align: right;\n",
       "    }\n",
       "</style>\n",
       "<table border=\"1\" class=\"dataframe\">\n",
       "  <thead>\n",
       "    <tr style=\"text-align: right;\">\n",
       "      <th></th>\n",
       "      <th>Amount</th>\n",
       "    </tr>\n",
       "    <tr>\n",
       "      <th>Month_Invoiced</th>\n",
       "      <th></th>\n",
       "    </tr>\n",
       "  </thead>\n",
       "  <tbody>\n",
       "    <tr>\n",
       "      <th>2014-01-31</th>\n",
       "      <td>35850.0</td>\n",
       "    </tr>\n",
       "    <tr>\n",
       "      <th>2014-02-28</th>\n",
       "      <td>37190.0</td>\n",
       "    </tr>\n",
       "    <tr>\n",
       "      <th>2014-03-31</th>\n",
       "      <td>38295.0</td>\n",
       "    </tr>\n",
       "    <tr>\n",
       "      <th>2014-04-30</th>\n",
       "      <td>39255.0</td>\n",
       "    </tr>\n",
       "    <tr>\n",
       "      <th>2014-05-31</th>\n",
       "      <td>40355.0</td>\n",
       "    </tr>\n",
       "    <tr>\n",
       "      <th>2014-06-30</th>\n",
       "      <td>41255.0</td>\n",
       "    </tr>\n",
       "    <tr>\n",
       "      <th>2014-07-31</th>\n",
       "      <td>42170.0</td>\n",
       "    </tr>\n",
       "    <tr>\n",
       "      <th>2014-08-31</th>\n",
       "      <td>43210.0</td>\n",
       "    </tr>\n",
       "    <tr>\n",
       "      <th>2014-09-30</th>\n",
       "      <td>44075.0</td>\n",
       "    </tr>\n",
       "    <tr>\n",
       "      <th>2014-10-31</th>\n",
       "      <td>44880.0</td>\n",
       "    </tr>\n",
       "    <tr>\n",
       "      <th>2014-11-30</th>\n",
       "      <td>45545.0</td>\n",
       "    </tr>\n",
       "    <tr>\n",
       "      <th>2014-12-31</th>\n",
       "      <td>46210.0</td>\n",
       "    </tr>\n",
       "    <tr>\n",
       "      <th>2015-01-31</th>\n",
       "      <td>46945.0</td>\n",
       "    </tr>\n",
       "    <tr>\n",
       "      <th>2015-02-28</th>\n",
       "      <td>47520.0</td>\n",
       "    </tr>\n",
       "    <tr>\n",
       "      <th>2015-03-31</th>\n",
       "      <td>48025.0</td>\n",
       "    </tr>\n",
       "    <tr>\n",
       "      <th>2015-04-30</th>\n",
       "      <td>48560.0</td>\n",
       "    </tr>\n",
       "    <tr>\n",
       "      <th>2015-05-31</th>\n",
       "      <td>49025.0</td>\n",
       "    </tr>\n",
       "    <tr>\n",
       "      <th>2015-06-30</th>\n",
       "      <td>49485.0</td>\n",
       "    </tr>\n",
       "    <tr>\n",
       "      <th>2015-07-31</th>\n",
       "      <td>50105.0</td>\n",
       "    </tr>\n",
       "    <tr>\n",
       "      <th>2015-08-31</th>\n",
       "      <td>50495.0</td>\n",
       "    </tr>\n",
       "    <tr>\n",
       "      <th>2015-09-30</th>\n",
       "      <td>50985.0</td>\n",
       "    </tr>\n",
       "    <tr>\n",
       "      <th>2015-10-31</th>\n",
       "      <td>51445.0</td>\n",
       "    </tr>\n",
       "    <tr>\n",
       "      <th>2015-11-30</th>\n",
       "      <td>51260.0</td>\n",
       "    </tr>\n",
       "    <tr>\n",
       "      <th>2015-12-31</th>\n",
       "      <td>51505.0</td>\n",
       "    </tr>\n",
       "    <tr>\n",
       "      <th>2016-01-31</th>\n",
       "      <td>51955.0</td>\n",
       "    </tr>\n",
       "    <tr>\n",
       "      <th>2016-02-29</th>\n",
       "      <td>51955.0</td>\n",
       "    </tr>\n",
       "    <tr>\n",
       "      <th>2016-03-31</th>\n",
       "      <td>52000.0</td>\n",
       "    </tr>\n",
       "    <tr>\n",
       "      <th>2016-04-30</th>\n",
       "      <td>52190.0</td>\n",
       "    </tr>\n",
       "    <tr>\n",
       "      <th>2016-05-31</th>\n",
       "      <td>52325.0</td>\n",
       "    </tr>\n",
       "    <tr>\n",
       "      <th>2016-06-30</th>\n",
       "      <td>52435.0</td>\n",
       "    </tr>\n",
       "    <tr>\n",
       "      <th>2016-07-31</th>\n",
       "      <td>52695.0</td>\n",
       "    </tr>\n",
       "    <tr>\n",
       "      <th>2016-08-31</th>\n",
       "      <td>52940.0</td>\n",
       "    </tr>\n",
       "    <tr>\n",
       "      <th>2016-09-30</th>\n",
       "      <td>52975.0</td>\n",
       "    </tr>\n",
       "    <tr>\n",
       "      <th>2016-10-31</th>\n",
       "      <td>53190.0</td>\n",
       "    </tr>\n",
       "    <tr>\n",
       "      <th>2016-11-30</th>\n",
       "      <td>53375.0</td>\n",
       "    </tr>\n",
       "    <tr>\n",
       "      <th>2016-12-31</th>\n",
       "      <td>53320.0</td>\n",
       "    </tr>\n",
       "    <tr>\n",
       "      <th>2017-01-31</th>\n",
       "      <td>53395.0</td>\n",
       "    </tr>\n",
       "    <tr>\n",
       "      <th>2017-02-28</th>\n",
       "      <td>53440.0</td>\n",
       "    </tr>\n",
       "    <tr>\n",
       "      <th>2017-03-31</th>\n",
       "      <td>53480.0</td>\n",
       "    </tr>\n",
       "    <tr>\n",
       "      <th>2017-04-30</th>\n",
       "      <td>53350.0</td>\n",
       "    </tr>\n",
       "    <tr>\n",
       "      <th>2017-05-31</th>\n",
       "      <td>53340.0</td>\n",
       "    </tr>\n",
       "    <tr>\n",
       "      <th>2017-06-30</th>\n",
       "      <td>53405.0</td>\n",
       "    </tr>\n",
       "    <tr>\n",
       "      <th>2017-07-31</th>\n",
       "      <td>53680.0</td>\n",
       "    </tr>\n",
       "    <tr>\n",
       "      <th>2017-08-31</th>\n",
       "      <td>53820.0</td>\n",
       "    </tr>\n",
       "    <tr>\n",
       "      <th>2017-09-30</th>\n",
       "      <td>53925.0</td>\n",
       "    </tr>\n",
       "    <tr>\n",
       "      <th>2017-10-31</th>\n",
       "      <td>53850.0</td>\n",
       "    </tr>\n",
       "    <tr>\n",
       "      <th>2017-11-30</th>\n",
       "      <td>53860.0</td>\n",
       "    </tr>\n",
       "    <tr>\n",
       "      <th>2017-12-31</th>\n",
       "      <td>53805.0</td>\n",
       "    </tr>\n",
       "  </tbody>\n",
       "</table>\n",
       "</div>"
      ],
      "text/plain": [
       "                 Amount\n",
       "Month_Invoiced         \n",
       "2014-01-31      35850.0\n",
       "2014-02-28      37190.0\n",
       "2014-03-31      38295.0\n",
       "2014-04-30      39255.0\n",
       "2014-05-31      40355.0\n",
       "2014-06-30      41255.0\n",
       "2014-07-31      42170.0\n",
       "2014-08-31      43210.0\n",
       "2014-09-30      44075.0\n",
       "2014-10-31      44880.0\n",
       "2014-11-30      45545.0\n",
       "2014-12-31      46210.0\n",
       "2015-01-31      46945.0\n",
       "2015-02-28      47520.0\n",
       "2015-03-31      48025.0\n",
       "2015-04-30      48560.0\n",
       "2015-05-31      49025.0\n",
       "2015-06-30      49485.0\n",
       "2015-07-31      50105.0\n",
       "2015-08-31      50495.0\n",
       "2015-09-30      50985.0\n",
       "2015-10-31      51445.0\n",
       "2015-11-30      51260.0\n",
       "2015-12-31      51505.0\n",
       "2016-01-31      51955.0\n",
       "2016-02-29      51955.0\n",
       "2016-03-31      52000.0\n",
       "2016-04-30      52190.0\n",
       "2016-05-31      52325.0\n",
       "2016-06-30      52435.0\n",
       "2016-07-31      52695.0\n",
       "2016-08-31      52940.0\n",
       "2016-09-30      52975.0\n",
       "2016-10-31      53190.0\n",
       "2016-11-30      53375.0\n",
       "2016-12-31      53320.0\n",
       "2017-01-31      53395.0\n",
       "2017-02-28      53440.0\n",
       "2017-03-31      53480.0\n",
       "2017-04-30      53350.0\n",
       "2017-05-31      53340.0\n",
       "2017-06-30      53405.0\n",
       "2017-07-31      53680.0\n",
       "2017-08-31      53820.0\n",
       "2017-09-30      53925.0\n",
       "2017-10-31      53850.0\n",
       "2017-11-30      53860.0\n",
       "2017-12-31      53805.0"
      ]
     },
     "execution_count": 22,
     "metadata": {},
     "output_type": "execute_result"
    }
   ],
   "source": [
    "df_resampled = df.resample('M')[['Amount']].sum()\n",
    "df_resampled"
   ]
  },
  {
   "cell_type": "code",
   "execution_count": 23,
   "id": "782fa714",
   "metadata": {},
   "outputs": [
    {
     "data": {
      "text/plain": [
       "(48, 1)"
      ]
     },
     "execution_count": 23,
     "metadata": {},
     "output_type": "execute_result"
    }
   ],
   "source": [
    "df_resampled.shape"
   ]
  },
  {
   "cell_type": "code",
   "execution_count": 24,
   "id": "299b11c0",
   "metadata": {},
   "outputs": [
    {
     "data": {
      "text/plain": [
       "24"
      ]
     },
     "execution_count": 24,
     "metadata": {},
     "output_type": "execute_result"
    }
   ],
   "source": [
    "# set train size to be 50% of total \n",
    "train_size = int(round(df_resampled.shape[0] * 0.5))\n",
    "train_size"
   ]
  },
  {
   "cell_type": "code",
   "execution_count": 25,
   "id": "de2e40fd",
   "metadata": {},
   "outputs": [
    {
     "data": {
      "text/plain": [
       "14"
      ]
     },
     "execution_count": 25,
     "metadata": {},
     "output_type": "execute_result"
    }
   ],
   "source": [
    "# set validate size to be 30% of total \n",
    "validate_size = int(round(df_resampled.shape[0] * 0.3))\n",
    "validate_size"
   ]
  },
  {
   "cell_type": "code",
   "execution_count": 26,
   "id": "fd978259",
   "metadata": {},
   "outputs": [
    {
     "data": {
      "text/plain": [
       "10"
      ]
     },
     "execution_count": 26,
     "metadata": {},
     "output_type": "execute_result"
    }
   ],
   "source": [
    "# set test size to be number of rows remaining. \n",
    "test_size = int(round(df_resampled.shape[0] * 0.2))\n",
    "test_size"
   ]
  },
  {
   "cell_type": "code",
   "execution_count": 27,
   "id": "0d1a5e6d",
   "metadata": {},
   "outputs": [
    {
     "data": {
      "text/plain": [
       "True"
      ]
     },
     "execution_count": 27,
     "metadata": {},
     "output_type": "execute_result"
    }
   ],
   "source": [
    "len(df_resampled) == train_size + validate_size + test_size"
   ]
  },
  {
   "cell_type": "code",
   "execution_count": 28,
   "id": "eb0f6d0e",
   "metadata": {},
   "outputs": [
    {
     "data": {
      "text/plain": [
       "38"
      ]
     },
     "execution_count": 28,
     "metadata": {},
     "output_type": "execute_result"
    }
   ],
   "source": [
    "# validate will go from 913 to 913+548\n",
    "validate_end_index = train_size + validate_size\n",
    "validate_end_index"
   ]
  },
  {
   "cell_type": "code",
   "execution_count": 29,
   "id": "c658d064",
   "metadata": {},
   "outputs": [],
   "source": [
    "train = df_resampled[:train_size]"
   ]
  },
  {
   "cell_type": "code",
   "execution_count": 30,
   "id": "3b165026",
   "metadata": {},
   "outputs": [],
   "source": [
    "val = df_resampled[train_size:validate_end_index]"
   ]
  },
  {
   "cell_type": "code",
   "execution_count": 31,
   "id": "9c21ec92",
   "metadata": {},
   "outputs": [],
   "source": [
    "test = df_resampled[validate_end_index:]"
   ]
  },
  {
   "cell_type": "code",
   "execution_count": 32,
   "id": "a6d90fb7",
   "metadata": {},
   "outputs": [
    {
     "data": {
      "image/png": "[encoded data removed]",
      "text/plain": [
       "<Figure size 1400x800 with 1 Axes>"
      ]
     },
     "metadata": {},
     "output_type": "display_data"
    }
   ],
   "source": [
    "for col in train.columns:\n",
    "    plt.figure(figsize=(14,8))\n",
    "    plt.plot(train[col], color='#377eb8', label = 'Train')\n",
    "    plt.plot(val[col], color='#ff7f00', label = 'Validate')\n",
    "    plt.plot(test[col], color='#4daf4a', label = 'Test')\n",
    "    plt.legend()\n",
    "    plt.ylabel(col)\n",
    "    plt.title(col)\n",
    "    plt.show()"
   ]
  },
  {
   "cell_type": "code",
   "execution_count": 33,
   "id": "30b5315f",
   "metadata": {},
   "outputs": [],
   "source": [
    "def evaluate(target_var):\n",
    "    '''\n",
    "    This function will take the actual values of the target_var from validate, \n",
    "    and the predicted values stored in yhat_df, \n",
    "    and compute the rmse, rounding to 0 decimal places. \n",
    "    it will return the rmse. \n",
    "    '''\n",
    "    rmse = round(sqrt(mean_squared_error(val[target_var], yhat_df[target_var])), 0)\n",
    "    return rmse"
   ]
  },
  {
   "cell_type": "code",
   "execution_count": 34,
   "id": "4a8304b2",
   "metadata": {},
   "outputs": [],
   "source": [
    "def plot_and_eval(target_var):\n",
    "    '''\n",
    "    This function takes in the target var name (string), and returns a plot\n",
    "    of the values of train for that variable, validate, and the predicted values from yhat_df. \n",
    "    it will als lable the rmse. \n",
    "    '''\n",
    "    plt.figure(figsize = (12,4))\n",
    "    plt.plot(train[target_var], label='Train', linewidth=1, color='#377eb8')\n",
    "    plt.plot(val[target_var], label='Validate', linewidth=1, color='#ff7f00')\n",
    "    plt.plot(yhat_df[target_var], label='yhat', linewidth=2, color='#a65628')\n",
    "    plt.legend()\n",
    "    plt.title(target_var)\n",
    "    rmse = evaluate(target_var)\n",
    "    print(target_var, '-- RMSE: {:.0f}'.format(rmse))\n",
    "    plt.show()"
   ]
  },
  {
   "cell_type": "code",
   "execution_count": 35,
   "id": "c5481b09",
   "metadata": {},
   "outputs": [
    {
     "data": {
      "text/html": [
       "<div>\n",
       "<style scoped>\n",
       "    .dataframe tbody tr th:only-of-type {\n",
       "        vertical-align: middle;\n",
       "    }\n",
       "\n",
       "    .dataframe tbody tr th {\n",
       "        vertical-align: top;\n",
       "    }\n",
       "\n",
       "    .dataframe thead th {\n",
       "        text-align: right;\n",
       "    }\n",
       "</style>\n",
       "<table border=\"1\" class=\"dataframe\">\n",
       "  <thead>\n",
       "    <tr style=\"text-align: right;\">\n",
       "      <th></th>\n",
       "      <th>model_type</th>\n",
       "      <th>target_var</th>\n",
       "      <th>rmse</th>\n",
       "    </tr>\n",
       "  </thead>\n",
       "  <tbody>\n",
       "  </tbody>\n",
       "</table>\n",
       "</div>"
      ],
      "text/plain": [
       "Empty DataFrame\n",
       "Columns: [model_type, target_var, rmse]\n",
       "Index: []"
      ]
     },
     "execution_count": 35,
     "metadata": {},
     "output_type": "execute_result"
    }
   ],
   "source": [
    "# create an empty dataframe\n",
    "eval_df = pd.DataFrame(columns=['model_type', 'target_var', 'rmse'])\n",
    "eval_df"
   ]
  },
  {
   "cell_type": "code",
   "execution_count": 36,
   "id": "6d044b95",
   "metadata": {},
   "outputs": [],
   "source": [
    "# function to store the rmse so that we can compare\n",
    "def append_eval_df(model_type, target_var):\n",
    "    '''\n",
    "    this function takes in as arguments the type of model run, and the name of the target variable. \n",
    "    It returns the eval_df with the rmse appended to it for that model and target_var. \n",
    "    '''\n",
    "    rmse = evaluate(target_var)\n",
    "    d = {'model_type': [model_type], 'target_var': [target_var],\n",
    "        'rmse': [rmse]}\n",
    "    d = pd.DataFrame(d)\n",
    "    return eval_df.append(d, ignore_index = True)"
   ]
  },
  {
   "cell_type": "code",
   "execution_count": 38,
   "id": "b61d2ca1",
   "metadata": {},
   "outputs": [],
   "source": [
    "last_date = train['Amount'][-1:][0]"
   ]
  },
  {
   "cell_type": "code",
   "execution_count": 42,
   "id": "e71cc14c",
   "metadata": {},
   "outputs": [
    {
     "data": {
      "text/html": [
       "<div>\n",
       "<style scoped>\n",
       "    .dataframe tbody tr th:only-of-type {\n",
       "        vertical-align: middle;\n",
       "    }\n",
       "\n",
       "    .dataframe tbody tr th {\n",
       "        vertical-align: top;\n",
       "    }\n",
       "\n",
       "    .dataframe thead th {\n",
       "        text-align: right;\n",
       "    }\n",
       "</style>\n",
       "<table border=\"1\" class=\"dataframe\">\n",
       "  <thead>\n",
       "    <tr style=\"text-align: right;\">\n",
       "      <th></th>\n",
       "      <th>Amount</th>\n",
       "    </tr>\n",
       "    <tr>\n",
       "      <th>Month_Invoiced</th>\n",
       "      <th></th>\n",
       "    </tr>\n",
       "  </thead>\n",
       "  <tbody>\n",
       "    <tr>\n",
       "      <th>2016-01-31</th>\n",
       "      <td>51505.0</td>\n",
       "    </tr>\n",
       "    <tr>\n",
       "      <th>2016-02-29</th>\n",
       "      <td>51505.0</td>\n",
       "    </tr>\n",
       "    <tr>\n",
       "      <th>2016-03-31</th>\n",
       "      <td>51505.0</td>\n",
       "    </tr>\n",
       "    <tr>\n",
       "      <th>2016-04-30</th>\n",
       "      <td>51505.0</td>\n",
       "    </tr>\n",
       "    <tr>\n",
       "      <th>2016-05-31</th>\n",
       "      <td>51505.0</td>\n",
       "    </tr>\n",
       "  </tbody>\n",
       "</table>\n",
       "</div>"
      ],
      "text/plain": [
       "                 Amount\n",
       "Month_Invoiced         \n",
       "2016-01-31      51505.0\n",
       "2016-02-29      51505.0\n",
       "2016-03-31      51505.0\n",
       "2016-04-30      51505.0\n",
       "2016-05-31      51505.0"
      ]
     },
     "execution_count": 42,
     "metadata": {},
     "output_type": "execute_result"
    }
   ],
   "source": [
    "yhat_df = pd.DataFrame(\n",
    "    {'Amount': last_date},\n",
    "    index=val.index)\n",
    "\n",
    "yhat_df.head()"
   ]
  },
  {
   "cell_type": "code",
   "execution_count": 43,
   "id": "404727aa",
   "metadata": {},
   "outputs": [
    {
     "name": "stdout",
     "output_type": "stream",
     "text": [
      "Amount -- RMSE: 1343\n"
     ]
    },
    {
     "data": {
      "image/png": "[encoded data removed]",
      "text/plain": [
       "<Figure size 1200x400 with 1 Axes>"
      ]
     },
     "metadata": {},
     "output_type": "display_data"
    }
   ],
   "source": [
    "for col in train.columns:\n",
    "    plot_and_eval(col)"
   ]
  },
  {
   "cell_type": "code",
   "execution_count": 44,
   "id": "74752db1",
   "metadata": {},
   "outputs": [
    {
     "data": {
      "text/html": [
       "<div>\n",
       "<style scoped>\n",
       "    .dataframe tbody tr th:only-of-type {\n",
       "        vertical-align: middle;\n",
       "    }\n",
       "\n",
       "    .dataframe tbody tr th {\n",
       "        vertical-align: top;\n",
       "    }\n",
       "\n",
       "    .dataframe thead th {\n",
       "        text-align: right;\n",
       "    }\n",
       "</style>\n",
       "<table border=\"1\" class=\"dataframe\">\n",
       "  <thead>\n",
       "    <tr style=\"text-align: right;\">\n",
       "      <th></th>\n",
       "      <th>model_type</th>\n",
       "      <th>target_var</th>\n",
       "      <th>rmse</th>\n",
       "    </tr>\n",
       "  </thead>\n",
       "  <tbody>\n",
       "    <tr>\n",
       "      <th>0</th>\n",
       "      <td>last_observed_value</td>\n",
       "      <td>Amount</td>\n",
       "      <td>1343.0</td>\n",
       "    </tr>\n",
       "  </tbody>\n",
       "</table>\n",
       "</div>"
      ],
      "text/plain": [
       "            model_type target_var    rmse\n",
       "0  last_observed_value     Amount  1343.0"
      ]
     },
     "execution_count": 44,
     "metadata": {},
     "output_type": "execute_result"
    }
   ],
   "source": [
    "for col in train.columns:\n",
    "    eval_df = append_eval_df(model_type = 'last_observed_value', \n",
    "                             target_var = col)\n",
    "\n",
    "eval_df"
   ]
  },
  {
   "cell_type": "code",
   "execution_count": 45,
   "id": "0c8c17cd",
   "metadata": {},
   "outputs": [
    {
     "data": {
      "text/plain": [
       "45568.54"
      ]
     },
     "execution_count": 45,
     "metadata": {},
     "output_type": "execute_result"
    }
   ],
   "source": [
    "avg_amount = round(train['Amount'].mean(), 2)\n",
    "avg_amount"
   ]
  },
  {
   "cell_type": "code",
   "execution_count": 46,
   "id": "39885344",
   "metadata": {},
   "outputs": [],
   "source": [
    "def make_baseline_predictions(predictions=None):\n",
    "    yhat_df = pd.DataFrame({'Amount': [predictions]},\n",
    "                          index=val.index)\n",
    "    return yhat_df"
   ]
  },
  {
   "cell_type": "code",
   "execution_count": 47,
   "id": "6944a64c",
   "metadata": {},
   "outputs": [],
   "source": [
    "yhat_df = make_baseline_predictions(avg_amount)"
   ]
  },
  {
   "cell_type": "code",
   "execution_count": 48,
   "id": "eeeb3035",
   "metadata": {},
   "outputs": [
    {
     "data": {
      "text/html": [
       "<div>\n",
       "<style scoped>\n",
       "    .dataframe tbody tr th:only-of-type {\n",
       "        vertical-align: middle;\n",
       "    }\n",
       "\n",
       "    .dataframe tbody tr th {\n",
       "        vertical-align: top;\n",
       "    }\n",
       "\n",
       "    .dataframe thead th {\n",
       "        text-align: right;\n",
       "    }\n",
       "</style>\n",
       "<table border=\"1\" class=\"dataframe\">\n",
       "  <thead>\n",
       "    <tr style=\"text-align: right;\">\n",
       "      <th></th>\n",
       "      <th>Amount</th>\n",
       "    </tr>\n",
       "    <tr>\n",
       "      <th>Month_Invoiced</th>\n",
       "      <th></th>\n",
       "    </tr>\n",
       "  </thead>\n",
       "  <tbody>\n",
       "    <tr>\n",
       "      <th>2016-01-31</th>\n",
       "      <td>45568.54</td>\n",
       "    </tr>\n",
       "    <tr>\n",
       "      <th>2016-02-29</th>\n",
       "      <td>45568.54</td>\n",
       "    </tr>\n",
       "    <tr>\n",
       "      <th>2016-03-31</th>\n",
       "      <td>45568.54</td>\n",
       "    </tr>\n",
       "    <tr>\n",
       "      <th>2016-04-30</th>\n",
       "      <td>45568.54</td>\n",
       "    </tr>\n",
       "    <tr>\n",
       "      <th>2016-05-31</th>\n",
       "      <td>45568.54</td>\n",
       "    </tr>\n",
       "  </tbody>\n",
       "</table>\n",
       "</div>"
      ],
      "text/plain": [
       "                  Amount\n",
       "Month_Invoiced          \n",
       "2016-01-31      45568.54\n",
       "2016-02-29      45568.54\n",
       "2016-03-31      45568.54\n",
       "2016-04-30      45568.54\n",
       "2016-05-31      45568.54"
      ]
     },
     "execution_count": 48,
     "metadata": {},
     "output_type": "execute_result"
    }
   ],
   "source": [
    "yhat_df.head()"
   ]
  },
  {
   "cell_type": "code",
   "execution_count": 49,
   "id": "f4ceb01d",
   "metadata": {},
   "outputs": [
    {
     "name": "stdout",
     "output_type": "stream",
     "text": [
      "Amount -- RMSE: 7181\n"
     ]
    },
    {
     "data": {
      "image/png": "[encoded data removed]",
      "text/plain": [
       "<Figure size 1200x400 with 1 Axes>"
      ]
     },
     "metadata": {},
     "output_type": "display_data"
    }
   ],
   "source": [
    "for col in train.columns:\n",
    "    plot_and_eval(col)"
   ]
  },
  {
   "cell_type": "code",
   "execution_count": 50,
   "id": "d1c9aec6",
   "metadata": {},
   "outputs": [
    {
     "data": {
      "text/html": [
       "<div>\n",
       "<style scoped>\n",
       "    .dataframe tbody tr th:only-of-type {\n",
       "        vertical-align: middle;\n",
       "    }\n",
       "\n",
       "    .dataframe tbody tr th {\n",
       "        vertical-align: top;\n",
       "    }\n",
       "\n",
       "    .dataframe thead th {\n",
       "        text-align: right;\n",
       "    }\n",
       "</style>\n",
       "<table border=\"1\" class=\"dataframe\">\n",
       "  <thead>\n",
       "    <tr style=\"text-align: right;\">\n",
       "      <th></th>\n",
       "      <th>model_type</th>\n",
       "      <th>target_var</th>\n",
       "      <th>rmse</th>\n",
       "    </tr>\n",
       "  </thead>\n",
       "  <tbody>\n",
       "    <tr>\n",
       "      <th>0</th>\n",
       "      <td>last_observed_value</td>\n",
       "      <td>Amount</td>\n",
       "      <td>1343.0</td>\n",
       "    </tr>\n",
       "    <tr>\n",
       "      <th>1</th>\n",
       "      <td>simple_average</td>\n",
       "      <td>Amount</td>\n",
       "      <td>7181.0</td>\n",
       "    </tr>\n",
       "  </tbody>\n",
       "</table>\n",
       "</div>"
      ],
      "text/plain": [
       "            model_type target_var    rmse\n",
       "0  last_observed_value     Amount  1343.0\n",
       "1       simple_average     Amount  7181.0"
      ]
     },
     "execution_count": 50,
     "metadata": {},
     "output_type": "execute_result"
    }
   ],
   "source": [
    "for col in train.columns:\n",
    "    eval_df = append_eval_df(model_type='simple_average', \n",
    "                            target_var = col)\n",
    "eval_df"
   ]
  },
  {
   "cell_type": "code",
   "execution_count": 55,
   "id": "0de43710",
   "metadata": {},
   "outputs": [
    {
     "data": {
      "text/plain": [
       "Month_Invoiced\n",
       "2014-01-31             NaN\n",
       "2014-02-28             NaN\n",
       "2014-03-31    37111.666667\n",
       "2014-04-30    38246.666667\n",
       "2014-05-31    39301.666667\n",
       "2014-06-30    40288.333333\n",
       "2014-07-31    41260.000000\n",
       "2014-08-31    42211.666667\n",
       "2014-09-30    43151.666667\n",
       "2014-10-31    44055.000000\n",
       "2014-11-30    44833.333333\n",
       "2014-12-31    45545.000000\n",
       "2015-01-31    46233.333333\n",
       "2015-02-28    46891.666667\n",
       "2015-03-31    47496.666667\n",
       "2015-04-30    48035.000000\n",
       "2015-05-31    48536.666667\n",
       "2015-06-30    49023.333333\n",
       "2015-07-31    49538.333333\n",
       "2015-08-31    50028.333333\n",
       "2015-09-30    50528.333333\n",
       "2015-10-31    50975.000000\n",
       "2015-11-30    51230.000000\n",
       "2015-12-31    51403.333333\n",
       "Freq: M, Name: Amount, dtype: float64"
      ]
     },
     "execution_count": 55,
     "metadata": {},
     "output_type": "execute_result"
    }
   ],
   "source": [
    "period=3\n",
    "train['Amount'].rolling(period).mean()"
   ]
  },
  {
   "cell_type": "code",
   "execution_count": 56,
   "id": "4678689b",
   "metadata": {},
   "outputs": [
    {
     "data": {
      "text/plain": [
       "51403.333333333336"
      ]
     },
     "execution_count": 56,
     "metadata": {},
     "output_type": "execute_result"
    }
   ],
   "source": [
    "period=3\n",
    "train['Amount'].rolling(period).mean()[-1]"
   ]
  },
  {
   "cell_type": "code",
   "execution_count": 57,
   "id": "db3bece9",
   "metadata": {},
   "outputs": [],
   "source": [
    "rolling_avg = round(train['Amount'].rolling(period).mean()[-1], 2)"
   ]
  },
  {
   "cell_type": "code",
   "execution_count": 58,
   "id": "7d3547d3",
   "metadata": {},
   "outputs": [
    {
     "data": {
      "text/html": [
       "<div>\n",
       "<style scoped>\n",
       "    .dataframe tbody tr th:only-of-type {\n",
       "        vertical-align: middle;\n",
       "    }\n",
       "\n",
       "    .dataframe tbody tr th {\n",
       "        vertical-align: top;\n",
       "    }\n",
       "\n",
       "    .dataframe thead th {\n",
       "        text-align: right;\n",
       "    }\n",
       "</style>\n",
       "<table border=\"1\" class=\"dataframe\">\n",
       "  <thead>\n",
       "    <tr style=\"text-align: right;\">\n",
       "      <th></th>\n",
       "      <th>Amount</th>\n",
       "    </tr>\n",
       "    <tr>\n",
       "      <th>Month_Invoiced</th>\n",
       "      <th></th>\n",
       "    </tr>\n",
       "  </thead>\n",
       "  <tbody>\n",
       "    <tr>\n",
       "      <th>2016-01-31</th>\n",
       "      <td>51403.33</td>\n",
       "    </tr>\n",
       "    <tr>\n",
       "      <th>2016-02-29</th>\n",
       "      <td>51403.33</td>\n",
       "    </tr>\n",
       "    <tr>\n",
       "      <th>2016-03-31</th>\n",
       "      <td>51403.33</td>\n",
       "    </tr>\n",
       "    <tr>\n",
       "      <th>2016-04-30</th>\n",
       "      <td>51403.33</td>\n",
       "    </tr>\n",
       "    <tr>\n",
       "      <th>2016-05-31</th>\n",
       "      <td>51403.33</td>\n",
       "    </tr>\n",
       "  </tbody>\n",
       "</table>\n",
       "</div>"
      ],
      "text/plain": [
       "                  Amount\n",
       "Month_Invoiced          \n",
       "2016-01-31      51403.33\n",
       "2016-02-29      51403.33\n",
       "2016-03-31      51403.33\n",
       "2016-04-30      51403.33\n",
       "2016-05-31      51403.33"
      ]
     },
     "execution_count": 58,
     "metadata": {},
     "output_type": "execute_result"
    }
   ],
   "source": [
    "yhat_df = make_baseline_predictions(rolling_avg)\n",
    "yhat_df.head()"
   ]
  },
  {
   "cell_type": "code",
   "execution_count": 59,
   "id": "94877168",
   "metadata": {},
   "outputs": [
    {
     "name": "stdout",
     "output_type": "stream",
     "text": [
      "Amount -- RMSE: 1436\n"
     ]
    },
    {
     "data": {
      "image/png": "[encoded data removed]",
      "text/plain": [
       "<Figure size 1200x400 with 1 Axes>"
      ]
     },
     "metadata": {},
     "output_type": "display_data"
    }
   ],
   "source": [
    "for col in train.columns:\n",
    "    plot_and_eval(col)"
   ]
  },
  {
   "cell_type": "code",
   "execution_count": 60,
   "id": "6a132697",
   "metadata": {},
   "outputs": [
    {
     "data": {
      "text/html": [
       "<div>\n",
       "<style scoped>\n",
       "    .dataframe tbody tr th:only-of-type {\n",
       "        vertical-align: middle;\n",
       "    }\n",
       "\n",
       "    .dataframe tbody tr th {\n",
       "        vertical-align: top;\n",
       "    }\n",
       "\n",
       "    .dataframe thead th {\n",
       "        text-align: right;\n",
       "    }\n",
       "</style>\n",
       "<table border=\"1\" class=\"dataframe\">\n",
       "  <thead>\n",
       "    <tr style=\"text-align: right;\">\n",
       "      <th></th>\n",
       "      <th>model_type</th>\n",
       "      <th>target_var</th>\n",
       "      <th>rmse</th>\n",
       "    </tr>\n",
       "  </thead>\n",
       "  <tbody>\n",
       "    <tr>\n",
       "      <th>0</th>\n",
       "      <td>last_observed_value</td>\n",
       "      <td>Amount</td>\n",
       "      <td>1343.0</td>\n",
       "    </tr>\n",
       "    <tr>\n",
       "      <th>1</th>\n",
       "      <td>simple_average</td>\n",
       "      <td>Amount</td>\n",
       "      <td>7181.0</td>\n",
       "    </tr>\n",
       "    <tr>\n",
       "      <th>2</th>\n",
       "      <td>3m_moving_avg</td>\n",
       "      <td>Amount</td>\n",
       "      <td>1436.0</td>\n",
       "    </tr>\n",
       "  </tbody>\n",
       "</table>\n",
       "</div>"
      ],
      "text/plain": [
       "            model_type target_var    rmse\n",
       "0  last_observed_value     Amount  1343.0\n",
       "1       simple_average     Amount  7181.0\n",
       "2        3m_moving_avg     Amount  1436.0"
      ]
     },
     "execution_count": 60,
     "metadata": {},
     "output_type": "execute_result"
    }
   ],
   "source": [
    "for col in train.columns:\n",
    "    eval_df = append_eval_df(model_type = '3m_moving_avg', \n",
    "                            target_var = col)\n",
    "\n",
    "eval_df"
   ]
  },
  {
   "cell_type": "code",
   "execution_count": 61,
   "id": "b2697e43",
   "metadata": {},
   "outputs": [],
   "source": [
    "periods = [1,2,3,5]\n",
    "\n",
    "for p in periods: \n",
    "    rolling_avg = round(train['Amount'].rolling(p).mean()[-1], 2)\n",
    "    yhat_df = make_baseline_predictions(rolling_avg)\n",
    "    model_type = str(p) + '_day_moving_avg'\n",
    "    for col in train.columns:\n",
    "        eval_df = append_eval_df(model_type = model_type,\n",
    "                                target_var = col)"
   ]
  },
  {
   "cell_type": "code",
   "execution_count": 62,
   "id": "a529ae10",
   "metadata": {},
   "outputs": [
    {
     "data": {
      "text/html": [
       "<div>\n",
       "<style scoped>\n",
       "    .dataframe tbody tr th:only-of-type {\n",
       "        vertical-align: middle;\n",
       "    }\n",
       "\n",
       "    .dataframe tbody tr th {\n",
       "        vertical-align: top;\n",
       "    }\n",
       "\n",
       "    .dataframe thead th {\n",
       "        text-align: right;\n",
       "    }\n",
       "</style>\n",
       "<table border=\"1\" class=\"dataframe\">\n",
       "  <thead>\n",
       "    <tr style=\"text-align: right;\">\n",
       "      <th></th>\n",
       "      <th>model_type</th>\n",
       "      <th>target_var</th>\n",
       "      <th>rmse</th>\n",
       "    </tr>\n",
       "  </thead>\n",
       "  <tbody>\n",
       "    <tr>\n",
       "      <th>0</th>\n",
       "      <td>last_observed_value</td>\n",
       "      <td>Amount</td>\n",
       "      <td>1343.0</td>\n",
       "    </tr>\n",
       "    <tr>\n",
       "      <th>1</th>\n",
       "      <td>simple_average</td>\n",
       "      <td>Amount</td>\n",
       "      <td>7181.0</td>\n",
       "    </tr>\n",
       "    <tr>\n",
       "      <th>2</th>\n",
       "      <td>3m_moving_avg</td>\n",
       "      <td>Amount</td>\n",
       "      <td>1436.0</td>\n",
       "    </tr>\n",
       "    <tr>\n",
       "      <th>3</th>\n",
       "      <td>1_day_moving_avg</td>\n",
       "      <td>Amount</td>\n",
       "      <td>1343.0</td>\n",
       "    </tr>\n",
       "    <tr>\n",
       "      <th>4</th>\n",
       "      <td>2_day_moving_avg</td>\n",
       "      <td>Amount</td>\n",
       "      <td>1455.0</td>\n",
       "    </tr>\n",
       "    <tr>\n",
       "      <th>5</th>\n",
       "      <td>3_day_moving_avg</td>\n",
       "      <td>Amount</td>\n",
       "      <td>1436.0</td>\n",
       "    </tr>\n",
       "    <tr>\n",
       "      <th>6</th>\n",
       "      <td>5_day_moving_avg</td>\n",
       "      <td>Amount</td>\n",
       "      <td>1684.0</td>\n",
       "    </tr>\n",
       "  </tbody>\n",
       "</table>\n",
       "</div>"
      ],
      "text/plain": [
       "            model_type target_var    rmse\n",
       "0  last_observed_value     Amount  1343.0\n",
       "1       simple_average     Amount  7181.0\n",
       "2        3m_moving_avg     Amount  1436.0\n",
       "3     1_day_moving_avg     Amount  1343.0\n",
       "4     2_day_moving_avg     Amount  1455.0\n",
       "5     3_day_moving_avg     Amount  1436.0\n",
       "6     5_day_moving_avg     Amount  1684.0"
      ]
     },
     "execution_count": 62,
     "metadata": {},
     "output_type": "execute_result"
    }
   ],
   "source": [
    "eval_df"
   ]
  },
  {
   "cell_type": "code",
   "execution_count": 64,
   "id": "5a3d7a83",
   "metadata": {},
   "outputs": [
    {
     "data": {
      "text/plain": [
       "1343.0"
      ]
     },
     "execution_count": 64,
     "metadata": {},
     "output_type": "execute_result"
    }
   ],
   "source": [
    "best_quantity_rmse = eval_df[eval_df.target_var == 'Amount']['rmse'].min()\n",
    "best_quantity_rmse"
   ]
  },
  {
   "cell_type": "code",
   "execution_count": 65,
   "id": "957f2d20",
   "metadata": {},
   "outputs": [
    {
     "data": {
      "text/html": [
       "<div>\n",
       "<style scoped>\n",
       "    .dataframe tbody tr th:only-of-type {\n",
       "        vertical-align: middle;\n",
       "    }\n",
       "\n",
       "    .dataframe tbody tr th {\n",
       "        vertical-align: top;\n",
       "    }\n",
       "\n",
       "    .dataframe thead th {\n",
       "        text-align: right;\n",
       "    }\n",
       "</style>\n",
       "<table border=\"1\" class=\"dataframe\">\n",
       "  <thead>\n",
       "    <tr style=\"text-align: right;\">\n",
       "      <th></th>\n",
       "      <th>model_type</th>\n",
       "      <th>target_var</th>\n",
       "      <th>rmse</th>\n",
       "    </tr>\n",
       "  </thead>\n",
       "  <tbody>\n",
       "    <tr>\n",
       "      <th>0</th>\n",
       "      <td>last_observed_value</td>\n",
       "      <td>Amount</td>\n",
       "      <td>1343.0</td>\n",
       "    </tr>\n",
       "    <tr>\n",
       "      <th>3</th>\n",
       "      <td>1_day_moving_avg</td>\n",
       "      <td>Amount</td>\n",
       "      <td>1343.0</td>\n",
       "    </tr>\n",
       "  </tbody>\n",
       "</table>\n",
       "</div>"
      ],
      "text/plain": [
       "            model_type target_var    rmse\n",
       "0  last_observed_value     Amount  1343.0\n",
       "3     1_day_moving_avg     Amount  1343.0"
      ]
     },
     "execution_count": 65,
     "metadata": {},
     "output_type": "execute_result"
    }
   ],
   "source": [
    "eval_df[eval_df.rmse == best_quantity_rmse]"
   ]
  },
  {
   "cell_type": "code",
   "execution_count": 68,
   "id": "585319b6",
   "metadata": {},
   "outputs": [
    {
     "data": {
      "image/png": "[encoded data removed]",
      "text/plain": [
       "<Figure size 640x480 with 4 Axes>"
      ]
     },
     "metadata": {},
     "output_type": "display_data"
    }
   ],
   "source": [
    "for col in train.columns:\n",
    "    sm.tsa.seasonal_decompose(train[col].resample('M').mean()).plot()"
   ]
  },
  {
   "cell_type": "code",
   "execution_count": 69,
   "id": "f1d2f194",
   "metadata": {},
   "outputs": [],
   "source": [
    "col = 'Amount' \n",
    "# create our Holt Object\n",
    "model = Holt(train[col], exponential=False, damped=True)"
   ]
  },
  {
   "cell_type": "code",
   "execution_count": 70,
   "id": "cf6ea5bb",
   "metadata": {},
   "outputs": [],
   "source": [
    "# fit the Holt object\n",
    "model = model.fit(optimized=True)"
   ]
  },
  {
   "cell_type": "code",
   "execution_count": 71,
   "id": "ca40a967",
   "metadata": {},
   "outputs": [],
   "source": [
    "yhat_sales_total = model.predict(start = val.index[0],\n",
    "                              end = val.index[-1])"
   ]
  },
  {
   "cell_type": "code",
   "execution_count": 72,
   "id": "641b0fc3",
   "metadata": {},
   "outputs": [],
   "source": [
    "# doing this in a loop for each column\n",
    "for col in train.columns:\n",
    "    model = Holt(train[col], exponential=False, damped=True)\n",
    "    model = model.fit(optimized=True)\n",
    "    yhat_values = model.predict(start = val.index[0],\n",
    "                              end = val.index[-1])\n",
    "    yhat_df[col] = round(yhat_values, 2)"
   ]
  },
  {
   "cell_type": "code",
   "execution_count": 73,
   "id": "c9699728",
   "metadata": {},
   "outputs": [
    {
     "data": {
      "text/html": [
       "<div>\n",
       "<style scoped>\n",
       "    .dataframe tbody tr th:only-of-type {\n",
       "        vertical-align: middle;\n",
       "    }\n",
       "\n",
       "    .dataframe tbody tr th {\n",
       "        vertical-align: top;\n",
       "    }\n",
       "\n",
       "    .dataframe thead th {\n",
       "        text-align: right;\n",
       "    }\n",
       "</style>\n",
       "<table border=\"1\" class=\"dataframe\">\n",
       "  <thead>\n",
       "    <tr style=\"text-align: right;\">\n",
       "      <th></th>\n",
       "      <th>Amount</th>\n",
       "    </tr>\n",
       "    <tr>\n",
       "      <th>Month_Invoiced</th>\n",
       "      <th></th>\n",
       "    </tr>\n",
       "  </thead>\n",
       "  <tbody>\n",
       "    <tr>\n",
       "      <th>2016-01-31</th>\n",
       "      <td>51748.62</td>\n",
       "    </tr>\n",
       "    <tr>\n",
       "      <th>2016-02-29</th>\n",
       "      <td>51962.00</td>\n",
       "    </tr>\n",
       "    <tr>\n",
       "      <th>2016-03-31</th>\n",
       "      <td>52173.35</td>\n",
       "    </tr>\n",
       "    <tr>\n",
       "      <th>2016-04-30</th>\n",
       "      <td>52382.69</td>\n",
       "    </tr>\n",
       "    <tr>\n",
       "      <th>2016-05-31</th>\n",
       "      <td>52590.04</td>\n",
       "    </tr>\n",
       "  </tbody>\n",
       "</table>\n",
       "</div>"
      ],
      "text/plain": [
       "                  Amount\n",
       "Month_Invoiced          \n",
       "2016-01-31      51748.62\n",
       "2016-02-29      51962.00\n",
       "2016-03-31      52173.35\n",
       "2016-04-30      52382.69\n",
       "2016-05-31      52590.04"
      ]
     },
     "execution_count": 73,
     "metadata": {},
     "output_type": "execute_result"
    }
   ],
   "source": [
    "yhat_df.head()"
   ]
  },
  {
   "cell_type": "code",
   "execution_count": 74,
   "id": "17d27a34",
   "metadata": {},
   "outputs": [
    {
     "name": "stdout",
     "output_type": "stream",
     "text": [
      "Amount -- RMSE: 456\n"
     ]
    },
    {
     "data": {
      "image/png": "[encoded data removed]",
      "text/plain": [
       "<Figure size 1200x400 with 1 Axes>"
      ]
     },
     "metadata": {},
     "output_type": "display_data"
    }
   ],
   "source": [
    "for col in train.columns:\n",
    "    plot_and_eval(target_var = col)"
   ]
  },
  {
   "cell_type": "code",
   "execution_count": 75,
   "id": "a094a203",
   "metadata": {},
   "outputs": [],
   "source": [
    "for col in train.columns:\n",
    "    eval_df = append_eval_df(model_type = 'holts_optimized', \n",
    "                            target_var = col)"
   ]
  },
  {
   "cell_type": "code",
   "execution_count": 76,
   "id": "408ddbca",
   "metadata": {},
   "outputs": [
    {
     "data": {
      "text/html": [
       "<div>\n",
       "<style scoped>\n",
       "    .dataframe tbody tr th:only-of-type {\n",
       "        vertical-align: middle;\n",
       "    }\n",
       "\n",
       "    .dataframe tbody tr th {\n",
       "        vertical-align: top;\n",
       "    }\n",
       "\n",
       "    .dataframe thead th {\n",
       "        text-align: right;\n",
       "    }\n",
       "</style>\n",
       "<table border=\"1\" class=\"dataframe\">\n",
       "  <thead>\n",
       "    <tr style=\"text-align: right;\">\n",
       "      <th></th>\n",
       "      <th>model_type</th>\n",
       "      <th>target_var</th>\n",
       "      <th>rmse</th>\n",
       "    </tr>\n",
       "  </thead>\n",
       "  <tbody>\n",
       "    <tr>\n",
       "      <th>7</th>\n",
       "      <td>holts_optimized</td>\n",
       "      <td>Amount</td>\n",
       "      <td>456.0</td>\n",
       "    </tr>\n",
       "    <tr>\n",
       "      <th>0</th>\n",
       "      <td>last_observed_value</td>\n",
       "      <td>Amount</td>\n",
       "      <td>1343.0</td>\n",
       "    </tr>\n",
       "    <tr>\n",
       "      <th>3</th>\n",
       "      <td>1_day_moving_avg</td>\n",
       "      <td>Amount</td>\n",
       "      <td>1343.0</td>\n",
       "    </tr>\n",
       "    <tr>\n",
       "      <th>2</th>\n",
       "      <td>3m_moving_avg</td>\n",
       "      <td>Amount</td>\n",
       "      <td>1436.0</td>\n",
       "    </tr>\n",
       "    <tr>\n",
       "      <th>5</th>\n",
       "      <td>3_day_moving_avg</td>\n",
       "      <td>Amount</td>\n",
       "      <td>1436.0</td>\n",
       "    </tr>\n",
       "    <tr>\n",
       "      <th>4</th>\n",
       "      <td>2_day_moving_avg</td>\n",
       "      <td>Amount</td>\n",
       "      <td>1455.0</td>\n",
       "    </tr>\n",
       "    <tr>\n",
       "      <th>6</th>\n",
       "      <td>5_day_moving_avg</td>\n",
       "      <td>Amount</td>\n",
       "      <td>1684.0</td>\n",
       "    </tr>\n",
       "    <tr>\n",
       "      <th>1</th>\n",
       "      <td>simple_average</td>\n",
       "      <td>Amount</td>\n",
       "      <td>7181.0</td>\n",
       "    </tr>\n",
       "  </tbody>\n",
       "</table>\n",
       "</div>"
      ],
      "text/plain": [
       "            model_type target_var    rmse\n",
       "7      holts_optimized     Amount   456.0\n",
       "0  last_observed_value     Amount  1343.0\n",
       "3     1_day_moving_avg     Amount  1343.0\n",
       "2        3m_moving_avg     Amount  1436.0\n",
       "5     3_day_moving_avg     Amount  1436.0\n",
       "4     2_day_moving_avg     Amount  1455.0\n",
       "6     5_day_moving_avg     Amount  1684.0\n",
       "1       simple_average     Amount  7181.0"
      ]
     },
     "execution_count": 76,
     "metadata": {},
     "output_type": "execute_result"
    }
   ],
   "source": [
    "eval_df.sort_values(by='rmse')"
   ]
  },
  {
   "cell_type": "code",
   "execution_count": 83,
   "id": "d27a4a74",
   "metadata": {},
   "outputs": [
    {
     "name": "stderr",
     "output_type": "stream",
     "text": [
      "/opt/homebrew/anaconda3/lib/python3.9/site-packages/statsmodels/tsa/holtwinters/model.py:915: ConvergenceWarning: Optimization failed to converge. Check mle_retvals.\n",
      "  warnings.warn(\n",
      "/opt/homebrew/anaconda3/lib/python3.9/site-packages/statsmodels/tsa/holtwinters/model.py:915: ConvergenceWarning: Optimization failed to converge. Check mle_retvals.\n",
      "  warnings.warn(\n",
      "/opt/homebrew/anaconda3/lib/python3.9/site-packages/statsmodels/tsa/holtwinters/model.py:915: ConvergenceWarning: Optimization failed to converge. Check mle_retvals.\n",
      "  warnings.warn(\n"
     ]
    }
   ],
   "source": [
    "# Models for quantity\n",
    "hst_amount_fit1 = ExponentialSmoothing(train['Amount'], seasonal_periods=12, trend='add', seasonal='add').fit()\n",
    "hst_amount_fit2 = ExponentialSmoothing(train['Amount'], seasonal_periods=12, trend='add', seasonal='mul').fit()\n",
    "hst_amount_fit3 = ExponentialSmoothing(train['Amount'], seasonal_periods=12, trend='add', seasonal='add', damped=True).fit()\n",
    "hst_amount_fit4 = ExponentialSmoothing(train['Amount'], seasonal_periods=12, trend='add', seasonal='mul', damped=True).fit()"
   ]
  },
  {
   "cell_type": "code",
   "execution_count": 84,
   "id": "9e4fce74",
   "metadata": {},
   "outputs": [
    {
     "data": {
      "text/plain": [
       "{'smoothing_level': 0.9318571413670268,\n",
       " 'smoothing_trend': 0.09327645138539839,\n",
       " 'smoothing_seasonal': 8.100000177127001e-05,\n",
       " 'damping_trend': nan,\n",
       " 'initial_level': 40238.58055555555,\n",
       " 'initial_trend': -842.1214646464601,\n",
       " 'initial_seasons': array([-1253.01180556,   -31.97847222,   -29.18680556,  -112.24513889,\n",
       "          -85.21180556,  -134.76180556,   -10.67847222,    67.21319444,\n",
       "          141.57986111,   250.15486111,   -13.95347222,   -78.02013889]),\n",
       " 'use_boxcox': False,\n",
       " 'lamda': None,\n",
       " 'remove_bias': False}"
      ]
     },
     "execution_count": 84,
     "metadata": {},
     "output_type": "execute_result"
    }
   ],
   "source": [
    "hst_amount_fit1.params"
   ]
  },
  {
   "cell_type": "code",
   "execution_count": 86,
   "id": "08ab774b",
   "metadata": {},
   "outputs": [
    {
     "data": {
      "text/html": [
       "<div>\n",
       "<style scoped>\n",
       "    .dataframe tbody tr th:only-of-type {\n",
       "        vertical-align: middle;\n",
       "    }\n",
       "\n",
       "    .dataframe tbody tr th {\n",
       "        vertical-align: top;\n",
       "    }\n",
       "\n",
       "    .dataframe thead th {\n",
       "        text-align: right;\n",
       "    }\n",
       "</style>\n",
       "<table border=\"1\" class=\"dataframe\">\n",
       "  <thead>\n",
       "    <tr style=\"text-align: right;\">\n",
       "      <th></th>\n",
       "      <th>model</th>\n",
       "      <th>SSE</th>\n",
       "    </tr>\n",
       "  </thead>\n",
       "  <tbody>\n",
       "    <tr>\n",
       "      <th>0</th>\n",
       "      <td>hst_amount_fit1</td>\n",
       "      <td>3.021176e+07</td>\n",
       "    </tr>\n",
       "    <tr>\n",
       "      <th>1</th>\n",
       "      <td>hst_amount_fit2</td>\n",
       "      <td>4.386029e+07</td>\n",
       "    </tr>\n",
       "    <tr>\n",
       "      <th>2</th>\n",
       "      <td>hst_amount_fit3</td>\n",
       "      <td>3.086059e+06</td>\n",
       "    </tr>\n",
       "    <tr>\n",
       "      <th>3</th>\n",
       "      <td>hst_amount_fit4</td>\n",
       "      <td>4.318860e+07</td>\n",
       "    </tr>\n",
       "  </tbody>\n",
       "</table>\n",
       "</div>"
      ],
      "text/plain": [
       "             model           SSE\n",
       "0  hst_amount_fit1  3.021176e+07\n",
       "1  hst_amount_fit2  4.386029e+07\n",
       "2  hst_amount_fit3  3.086059e+06\n",
       "3  hst_amount_fit4  4.318860e+07"
      ]
     },
     "execution_count": 86,
     "metadata": {},
     "output_type": "execute_result"
    }
   ],
   "source": [
    "results_amount=pd.DataFrame({'model':['hst_amount_fit1', 'hst_amount_fit2', 'hst_amount_fit3', 'hst_amount_fit4'],\n",
    "                              'SSE':[hst_amount_fit1.sse, hst_amount_fit2.sse, hst_amount_fit3.sse, hst_amount_fit4.sse]})\n",
    "results_amount"
   ]
  },
  {
   "cell_type": "code",
   "execution_count": 87,
   "id": "bdc4118f",
   "metadata": {},
   "outputs": [
    {
     "data": {
      "text/html": [
       "<div>\n",
       "<style scoped>\n",
       "    .dataframe tbody tr th:only-of-type {\n",
       "        vertical-align: middle;\n",
       "    }\n",
       "\n",
       "    .dataframe tbody tr th {\n",
       "        vertical-align: top;\n",
       "    }\n",
       "\n",
       "    .dataframe thead th {\n",
       "        text-align: right;\n",
       "    }\n",
       "</style>\n",
       "<table border=\"1\" class=\"dataframe\">\n",
       "  <thead>\n",
       "    <tr style=\"text-align: right;\">\n",
       "      <th></th>\n",
       "      <th>model</th>\n",
       "      <th>SSE</th>\n",
       "    </tr>\n",
       "  </thead>\n",
       "  <tbody>\n",
       "    <tr>\n",
       "      <th>2</th>\n",
       "      <td>hst_amount_fit3</td>\n",
       "      <td>3.086059e+06</td>\n",
       "    </tr>\n",
       "    <tr>\n",
       "      <th>0</th>\n",
       "      <td>hst_amount_fit1</td>\n",
       "      <td>3.021176e+07</td>\n",
       "    </tr>\n",
       "    <tr>\n",
       "      <th>3</th>\n",
       "      <td>hst_amount_fit4</td>\n",
       "      <td>4.318860e+07</td>\n",
       "    </tr>\n",
       "    <tr>\n",
       "      <th>1</th>\n",
       "      <td>hst_amount_fit2</td>\n",
       "      <td>4.386029e+07</td>\n",
       "    </tr>\n",
       "  </tbody>\n",
       "</table>\n",
       "</div>"
      ],
      "text/plain": [
       "             model           SSE\n",
       "2  hst_amount_fit3  3.086059e+06\n",
       "0  hst_amount_fit1  3.021176e+07\n",
       "3  hst_amount_fit4  4.318860e+07\n",
       "1  hst_amount_fit2  4.386029e+07"
      ]
     },
     "execution_count": 87,
     "metadata": {},
     "output_type": "execute_result"
    }
   ],
   "source": [
    "results_amount.sort_values(by='SSE')"
   ]
  },
  {
   "cell_type": "code",
   "execution_count": 88,
   "id": "edcd76f6",
   "metadata": {},
   "outputs": [
    {
     "data": {
      "text/html": [
       "<div>\n",
       "<style scoped>\n",
       "    .dataframe tbody tr th:only-of-type {\n",
       "        vertical-align: middle;\n",
       "    }\n",
       "\n",
       "    .dataframe tbody tr th {\n",
       "        vertical-align: top;\n",
       "    }\n",
       "\n",
       "    .dataframe thead th {\n",
       "        text-align: right;\n",
       "    }\n",
       "</style>\n",
       "<table border=\"1\" class=\"dataframe\">\n",
       "  <thead>\n",
       "    <tr style=\"text-align: right;\">\n",
       "      <th></th>\n",
       "      <th>Amount</th>\n",
       "    </tr>\n",
       "    <tr>\n",
       "      <th>Month_Invoiced</th>\n",
       "      <th></th>\n",
       "    </tr>\n",
       "  </thead>\n",
       "  <tbody>\n",
       "    <tr>\n",
       "      <th>2016-01-31</th>\n",
       "      <td>50664.684239</td>\n",
       "    </tr>\n",
       "    <tr>\n",
       "      <th>2016-02-29</th>\n",
       "      <td>52217.428386</td>\n",
       "    </tr>\n",
       "    <tr>\n",
       "      <th>2016-03-31</th>\n",
       "      <td>52552.052536</td>\n",
       "    </tr>\n",
       "    <tr>\n",
       "      <th>2016-04-30</th>\n",
       "      <td>52800.651668</td>\n",
       "    </tr>\n",
       "    <tr>\n",
       "      <th>2016-05-31</th>\n",
       "      <td>53159.313742</td>\n",
       "    </tr>\n",
       "    <tr>\n",
       "      <th>2016-06-30</th>\n",
       "      <td>53441.400957</td>\n",
       "    </tr>\n",
       "    <tr>\n",
       "      <th>2016-07-31</th>\n",
       "      <td>53897.114054</td>\n",
       "    </tr>\n",
       "    <tr>\n",
       "      <th>2016-08-31</th>\n",
       "      <td>54306.650282</td>\n",
       "    </tr>\n",
       "    <tr>\n",
       "      <th>2016-09-30</th>\n",
       "      <td>54712.659129</td>\n",
       "    </tr>\n",
       "    <tr>\n",
       "      <th>2016-10-31</th>\n",
       "      <td>55152.870112</td>\n",
       "    </tr>\n",
       "    <tr>\n",
       "      <th>2016-11-30</th>\n",
       "      <td>55220.408795</td>\n",
       "    </tr>\n",
       "    <tr>\n",
       "      <th>2016-12-31</th>\n",
       "      <td>55488.000113</td>\n",
       "    </tr>\n",
       "    <tr>\n",
       "      <th>2017-01-31</th>\n",
       "      <td>54644.569319</td>\n",
       "    </tr>\n",
       "    <tr>\n",
       "      <th>2017-02-28</th>\n",
       "      <td>56197.313466</td>\n",
       "    </tr>\n",
       "  </tbody>\n",
       "</table>\n",
       "</div>"
      ],
      "text/plain": [
       "                      Amount\n",
       "Month_Invoiced              \n",
       "2016-01-31      50664.684239\n",
       "2016-02-29      52217.428386\n",
       "2016-03-31      52552.052536\n",
       "2016-04-30      52800.651668\n",
       "2016-05-31      53159.313742\n",
       "2016-06-30      53441.400957\n",
       "2016-07-31      53897.114054\n",
       "2016-08-31      54306.650282\n",
       "2016-09-30      54712.659129\n",
       "2016-10-31      55152.870112\n",
       "2016-11-30      55220.408795\n",
       "2016-12-31      55488.000113\n",
       "2017-01-31      54644.569319\n",
       "2017-02-28      56197.313466"
      ]
     },
     "execution_count": 88,
     "metadata": {},
     "output_type": "execute_result"
    }
   ],
   "source": [
    "yhat_df = pd.DataFrame({'Amount': hst_amount_fit1.forecast(val.shape[0])},\n",
    "                          index=val.index)\n",
    "yhat_df"
   ]
  },
  {
   "cell_type": "code",
   "execution_count": 89,
   "id": "8cab00fe",
   "metadata": {},
   "outputs": [
    {
     "name": "stdout",
     "output_type": "stream",
     "text": [
      "Amount -- RMSE: 1502\n"
     ]
    },
    {
     "data": {
      "image/png": "[encoded data removed]",
      "text/plain": [
       "<Figure size 1200x400 with 1 Axes>"
      ]
     },
     "metadata": {},
     "output_type": "display_data"
    }
   ],
   "source": [
    "for col in train.columns:\n",
    "    plot_and_eval(col)"
   ]
  },
  {
   "cell_type": "code",
   "execution_count": 90,
   "id": "9d4fea22",
   "metadata": {},
   "outputs": [
    {
     "data": {
      "text/html": [
       "<div>\n",
       "<style scoped>\n",
       "    .dataframe tbody tr th:only-of-type {\n",
       "        vertical-align: middle;\n",
       "    }\n",
       "\n",
       "    .dataframe tbody tr th {\n",
       "        vertical-align: top;\n",
       "    }\n",
       "\n",
       "    .dataframe thead th {\n",
       "        text-align: right;\n",
       "    }\n",
       "</style>\n",
       "<table border=\"1\" class=\"dataframe\">\n",
       "  <thead>\n",
       "    <tr style=\"text-align: right;\">\n",
       "      <th></th>\n",
       "      <th>model_type</th>\n",
       "      <th>target_var</th>\n",
       "      <th>rmse</th>\n",
       "    </tr>\n",
       "  </thead>\n",
       "  <tbody>\n",
       "    <tr>\n",
       "      <th>0</th>\n",
       "      <td>last_observed_value</td>\n",
       "      <td>Amount</td>\n",
       "      <td>1343.0</td>\n",
       "    </tr>\n",
       "    <tr>\n",
       "      <th>1</th>\n",
       "      <td>simple_average</td>\n",
       "      <td>Amount</td>\n",
       "      <td>7181.0</td>\n",
       "    </tr>\n",
       "    <tr>\n",
       "      <th>2</th>\n",
       "      <td>3m_moving_avg</td>\n",
       "      <td>Amount</td>\n",
       "      <td>1436.0</td>\n",
       "    </tr>\n",
       "    <tr>\n",
       "      <th>3</th>\n",
       "      <td>1_day_moving_avg</td>\n",
       "      <td>Amount</td>\n",
       "      <td>1343.0</td>\n",
       "    </tr>\n",
       "    <tr>\n",
       "      <th>4</th>\n",
       "      <td>2_day_moving_avg</td>\n",
       "      <td>Amount</td>\n",
       "      <td>1455.0</td>\n",
       "    </tr>\n",
       "    <tr>\n",
       "      <th>5</th>\n",
       "      <td>3_day_moving_avg</td>\n",
       "      <td>Amount</td>\n",
       "      <td>1436.0</td>\n",
       "    </tr>\n",
       "    <tr>\n",
       "      <th>6</th>\n",
       "      <td>5_day_moving_avg</td>\n",
       "      <td>Amount</td>\n",
       "      <td>1684.0</td>\n",
       "    </tr>\n",
       "    <tr>\n",
       "      <th>7</th>\n",
       "      <td>holts_optimized</td>\n",
       "      <td>Amount</td>\n",
       "      <td>456.0</td>\n",
       "    </tr>\n",
       "  </tbody>\n",
       "</table>\n",
       "</div>"
      ],
      "text/plain": [
       "            model_type target_var    rmse\n",
       "0  last_observed_value     Amount  1343.0\n",
       "1       simple_average     Amount  7181.0\n",
       "2        3m_moving_avg     Amount  1436.0\n",
       "3     1_day_moving_avg     Amount  1343.0\n",
       "4     2_day_moving_avg     Amount  1455.0\n",
       "5     3_day_moving_avg     Amount  1436.0\n",
       "6     5_day_moving_avg     Amount  1684.0\n",
       "7      holts_optimized     Amount   456.0"
      ]
     },
     "execution_count": 90,
     "metadata": {},
     "output_type": "execute_result"
    }
   ],
   "source": [
    "eval_df"
   ]
  },
  {
   "cell_type": "code",
   "execution_count": 91,
   "id": "9e6c68fe",
   "metadata": {},
   "outputs": [],
   "source": [
    "for col in train.columns:\n",
    "    eval_df = append_eval_df(model_type = 'holts_seasonal_add_add', \n",
    "                            target_var = col)"
   ]
  },
  {
   "cell_type": "code",
   "execution_count": 92,
   "id": "af9ddab9",
   "metadata": {},
   "outputs": [
    {
     "data": {
      "text/html": [
       "<div>\n",
       "<style scoped>\n",
       "    .dataframe tbody tr th:only-of-type {\n",
       "        vertical-align: middle;\n",
       "    }\n",
       "\n",
       "    .dataframe tbody tr th {\n",
       "        vertical-align: top;\n",
       "    }\n",
       "\n",
       "    .dataframe thead th {\n",
       "        text-align: right;\n",
       "    }\n",
       "</style>\n",
       "<table border=\"1\" class=\"dataframe\">\n",
       "  <thead>\n",
       "    <tr style=\"text-align: right;\">\n",
       "      <th></th>\n",
       "      <th>model_type</th>\n",
       "      <th>target_var</th>\n",
       "      <th>rmse</th>\n",
       "    </tr>\n",
       "  </thead>\n",
       "  <tbody>\n",
       "    <tr>\n",
       "      <th>7</th>\n",
       "      <td>holts_optimized</td>\n",
       "      <td>Amount</td>\n",
       "      <td>456.0</td>\n",
       "    </tr>\n",
       "    <tr>\n",
       "      <th>0</th>\n",
       "      <td>last_observed_value</td>\n",
       "      <td>Amount</td>\n",
       "      <td>1343.0</td>\n",
       "    </tr>\n",
       "    <tr>\n",
       "      <th>3</th>\n",
       "      <td>1_day_moving_avg</td>\n",
       "      <td>Amount</td>\n",
       "      <td>1343.0</td>\n",
       "    </tr>\n",
       "    <tr>\n",
       "      <th>2</th>\n",
       "      <td>3m_moving_avg</td>\n",
       "      <td>Amount</td>\n",
       "      <td>1436.0</td>\n",
       "    </tr>\n",
       "    <tr>\n",
       "      <th>5</th>\n",
       "      <td>3_day_moving_avg</td>\n",
       "      <td>Amount</td>\n",
       "      <td>1436.0</td>\n",
       "    </tr>\n",
       "    <tr>\n",
       "      <th>4</th>\n",
       "      <td>2_day_moving_avg</td>\n",
       "      <td>Amount</td>\n",
       "      <td>1455.0</td>\n",
       "    </tr>\n",
       "    <tr>\n",
       "      <th>8</th>\n",
       "      <td>holts_seasonal_add_add</td>\n",
       "      <td>Amount</td>\n",
       "      <td>1502.0</td>\n",
       "    </tr>\n",
       "    <tr>\n",
       "      <th>6</th>\n",
       "      <td>5_day_moving_avg</td>\n",
       "      <td>Amount</td>\n",
       "      <td>1684.0</td>\n",
       "    </tr>\n",
       "    <tr>\n",
       "      <th>1</th>\n",
       "      <td>simple_average</td>\n",
       "      <td>Amount</td>\n",
       "      <td>7181.0</td>\n",
       "    </tr>\n",
       "  </tbody>\n",
       "</table>\n",
       "</div>"
      ],
      "text/plain": [
       "               model_type target_var    rmse\n",
       "7         holts_optimized     Amount   456.0\n",
       "0     last_observed_value     Amount  1343.0\n",
       "3        1_day_moving_avg     Amount  1343.0\n",
       "2           3m_moving_avg     Amount  1436.0\n",
       "5        3_day_moving_avg     Amount  1436.0\n",
       "4        2_day_moving_avg     Amount  1455.0\n",
       "8  holts_seasonal_add_add     Amount  1502.0\n",
       "6        5_day_moving_avg     Amount  1684.0\n",
       "1          simple_average     Amount  7181.0"
      ]
     },
     "execution_count": 92,
     "metadata": {},
     "output_type": "execute_result"
    }
   ],
   "source": [
    "eval_df.sort_values(by='rmse')"
   ]
  },
  {
   "cell_type": "code",
   "execution_count": 93,
   "id": "e9771e18",
   "metadata": {},
   "outputs": [
    {
     "name": "stdout",
     "output_type": "stream",
     "text": [
      "(24, 1)\n",
      "(12, 1)\n",
      "(12, 1)\n"
     ]
    },
    {
     "data": {
      "text/html": [
       "<div>\n",
       "<style scoped>\n",
       "    .dataframe tbody tr th:only-of-type {\n",
       "        vertical-align: middle;\n",
       "    }\n",
       "\n",
       "    .dataframe tbody tr th {\n",
       "        vertical-align: top;\n",
       "    }\n",
       "\n",
       "    .dataframe thead th {\n",
       "        text-align: right;\n",
       "    }\n",
       "</style>\n",
       "<table border=\"1\" class=\"dataframe\">\n",
       "  <thead>\n",
       "    <tr style=\"text-align: right;\">\n",
       "      <th></th>\n",
       "      <th>Amount</th>\n",
       "    </tr>\n",
       "    <tr>\n",
       "      <th>Month_Invoiced</th>\n",
       "      <th></th>\n",
       "    </tr>\n",
       "  </thead>\n",
       "  <tbody>\n",
       "    <tr>\n",
       "      <th>2015-08-31</th>\n",
       "      <td>50495.0</td>\n",
       "    </tr>\n",
       "    <tr>\n",
       "      <th>2015-09-30</th>\n",
       "      <td>50985.0</td>\n",
       "    </tr>\n",
       "    <tr>\n",
       "      <th>2015-10-31</th>\n",
       "      <td>51445.0</td>\n",
       "    </tr>\n",
       "    <tr>\n",
       "      <th>2015-11-30</th>\n",
       "      <td>51260.0</td>\n",
       "    </tr>\n",
       "    <tr>\n",
       "      <th>2015-12-31</th>\n",
       "      <td>51505.0</td>\n",
       "    </tr>\n",
       "  </tbody>\n",
       "</table>\n",
       "</div>"
      ],
      "text/plain": [
       "                 Amount\n",
       "Month_Invoiced         \n",
       "2015-08-31      50495.0\n",
       "2015-09-30      50985.0\n",
       "2015-10-31      51445.0\n",
       "2015-11-30      51260.0\n",
       "2015-12-31      51505.0"
      ]
     },
     "execution_count": 93,
     "metadata": {},
     "output_type": "execute_result"
    }
   ],
   "source": [
    "train = df_resampled[:'2015']\n",
    "val = df_resampled['2016']\n",
    "test = df_resampled['2017']\n",
    "\n",
    "print(train.shape)\n",
    "print(val.shape)\n",
    "print(test.shape)\n",
    "\n",
    "train.head()\n",
    "train.tail()"
   ]
  },
  {
   "cell_type": "code",
   "execution_count": 94,
   "id": "0095190a",
   "metadata": {},
   "outputs": [
    {
     "data": {
      "text/html": [
       "<div>\n",
       "<style scoped>\n",
       "    .dataframe tbody tr th:only-of-type {\n",
       "        vertical-align: middle;\n",
       "    }\n",
       "\n",
       "    .dataframe tbody tr th {\n",
       "        vertical-align: top;\n",
       "    }\n",
       "\n",
       "    .dataframe thead th {\n",
       "        text-align: right;\n",
       "    }\n",
       "</style>\n",
       "<table border=\"1\" class=\"dataframe\">\n",
       "  <thead>\n",
       "    <tr style=\"text-align: right;\">\n",
       "      <th></th>\n",
       "      <th>Amount</th>\n",
       "    </tr>\n",
       "    <tr>\n",
       "      <th>Month_Invoiced</th>\n",
       "      <th></th>\n",
       "    </tr>\n",
       "  </thead>\n",
       "  <tbody>\n",
       "    <tr>\n",
       "      <th>2014-01-31</th>\n",
       "      <td>NaN</td>\n",
       "    </tr>\n",
       "    <tr>\n",
       "      <th>2014-02-28</th>\n",
       "      <td>NaN</td>\n",
       "    </tr>\n",
       "    <tr>\n",
       "      <th>2014-03-31</th>\n",
       "      <td>NaN</td>\n",
       "    </tr>\n",
       "    <tr>\n",
       "      <th>2014-04-30</th>\n",
       "      <td>NaN</td>\n",
       "    </tr>\n",
       "    <tr>\n",
       "      <th>2014-05-31</th>\n",
       "      <td>NaN</td>\n",
       "    </tr>\n",
       "    <tr>\n",
       "      <th>2014-06-30</th>\n",
       "      <td>NaN</td>\n",
       "    </tr>\n",
       "    <tr>\n",
       "      <th>2014-07-31</th>\n",
       "      <td>NaN</td>\n",
       "    </tr>\n",
       "    <tr>\n",
       "      <th>2014-08-31</th>\n",
       "      <td>NaN</td>\n",
       "    </tr>\n",
       "    <tr>\n",
       "      <th>2014-09-30</th>\n",
       "      <td>NaN</td>\n",
       "    </tr>\n",
       "    <tr>\n",
       "      <th>2014-10-31</th>\n",
       "      <td>NaN</td>\n",
       "    </tr>\n",
       "    <tr>\n",
       "      <th>2014-11-30</th>\n",
       "      <td>NaN</td>\n",
       "    </tr>\n",
       "    <tr>\n",
       "      <th>2014-12-31</th>\n",
       "      <td>NaN</td>\n",
       "    </tr>\n",
       "    <tr>\n",
       "      <th>2015-01-31</th>\n",
       "      <td>11095.0</td>\n",
       "    </tr>\n",
       "    <tr>\n",
       "      <th>2015-02-28</th>\n",
       "      <td>10330.0</td>\n",
       "    </tr>\n",
       "    <tr>\n",
       "      <th>2015-03-31</th>\n",
       "      <td>9730.0</td>\n",
       "    </tr>\n",
       "    <tr>\n",
       "      <th>2015-04-30</th>\n",
       "      <td>9305.0</td>\n",
       "    </tr>\n",
       "    <tr>\n",
       "      <th>2015-05-31</th>\n",
       "      <td>8670.0</td>\n",
       "    </tr>\n",
       "    <tr>\n",
       "      <th>2015-06-30</th>\n",
       "      <td>8230.0</td>\n",
       "    </tr>\n",
       "    <tr>\n",
       "      <th>2015-07-31</th>\n",
       "      <td>7935.0</td>\n",
       "    </tr>\n",
       "    <tr>\n",
       "      <th>2015-08-31</th>\n",
       "      <td>7285.0</td>\n",
       "    </tr>\n",
       "    <tr>\n",
       "      <th>2015-09-30</th>\n",
       "      <td>6910.0</td>\n",
       "    </tr>\n",
       "    <tr>\n",
       "      <th>2015-10-31</th>\n",
       "      <td>6565.0</td>\n",
       "    </tr>\n",
       "    <tr>\n",
       "      <th>2015-11-30</th>\n",
       "      <td>5715.0</td>\n",
       "    </tr>\n",
       "    <tr>\n",
       "      <th>2015-12-31</th>\n",
       "      <td>5295.0</td>\n",
       "    </tr>\n",
       "  </tbody>\n",
       "</table>\n",
       "</div>"
      ],
      "text/plain": [
       "                 Amount\n",
       "Month_Invoiced         \n",
       "2014-01-31          NaN\n",
       "2014-02-28          NaN\n",
       "2014-03-31          NaN\n",
       "2014-04-30          NaN\n",
       "2014-05-31          NaN\n",
       "2014-06-30          NaN\n",
       "2014-07-31          NaN\n",
       "2014-08-31          NaN\n",
       "2014-09-30          NaN\n",
       "2014-10-31          NaN\n",
       "2014-11-30          NaN\n",
       "2014-12-31          NaN\n",
       "2015-01-31      11095.0\n",
       "2015-02-28      10330.0\n",
       "2015-03-31       9730.0\n",
       "2015-04-30       9305.0\n",
       "2015-05-31       8670.0\n",
       "2015-06-30       8230.0\n",
       "2015-07-31       7935.0\n",
       "2015-08-31       7285.0\n",
       "2015-09-30       6910.0\n",
       "2015-10-31       6565.0\n",
       "2015-11-30       5715.0\n",
       "2015-12-31       5295.0"
      ]
     },
     "execution_count": 94,
     "metadata": {},
     "output_type": "execute_result"
    }
   ],
   "source": [
    "train.diff(12)"
   ]
  },
  {
   "cell_type": "code",
   "execution_count": 95,
   "id": "85bc7716",
   "metadata": {},
   "outputs": [
    {
     "data": {
      "text/html": [
       "<div>\n",
       "<style scoped>\n",
       "    .dataframe tbody tr th:only-of-type {\n",
       "        vertical-align: middle;\n",
       "    }\n",
       "\n",
       "    .dataframe tbody tr th {\n",
       "        vertical-align: top;\n",
       "    }\n",
       "\n",
       "    .dataframe thead th {\n",
       "        text-align: right;\n",
       "    }\n",
       "</style>\n",
       "<table border=\"1\" class=\"dataframe\">\n",
       "  <thead>\n",
       "    <tr style=\"text-align: right;\">\n",
       "      <th></th>\n",
       "      <th>Amount</th>\n",
       "    </tr>\n",
       "    <tr>\n",
       "      <th>Month_Invoiced</th>\n",
       "      <th></th>\n",
       "    </tr>\n",
       "  </thead>\n",
       "  <tbody>\n",
       "    <tr>\n",
       "      <th>2015-01-31</th>\n",
       "      <td>55033.75</td>\n",
       "    </tr>\n",
       "    <tr>\n",
       "      <th>2015-02-28</th>\n",
       "      <td>55608.75</td>\n",
       "    </tr>\n",
       "    <tr>\n",
       "      <th>2015-03-31</th>\n",
       "      <td>56113.75</td>\n",
       "    </tr>\n",
       "    <tr>\n",
       "      <th>2015-04-30</th>\n",
       "      <td>56648.75</td>\n",
       "    </tr>\n",
       "    <tr>\n",
       "      <th>2015-05-31</th>\n",
       "      <td>57113.75</td>\n",
       "    </tr>\n",
       "    <tr>\n",
       "      <th>2015-06-30</th>\n",
       "      <td>57573.75</td>\n",
       "    </tr>\n",
       "    <tr>\n",
       "      <th>2015-07-31</th>\n",
       "      <td>58193.75</td>\n",
       "    </tr>\n",
       "    <tr>\n",
       "      <th>2015-08-31</th>\n",
       "      <td>58583.75</td>\n",
       "    </tr>\n",
       "    <tr>\n",
       "      <th>2015-09-30</th>\n",
       "      <td>59073.75</td>\n",
       "    </tr>\n",
       "    <tr>\n",
       "      <th>2015-10-31</th>\n",
       "      <td>59533.75</td>\n",
       "    </tr>\n",
       "    <tr>\n",
       "      <th>2015-11-30</th>\n",
       "      <td>59348.75</td>\n",
       "    </tr>\n",
       "    <tr>\n",
       "      <th>2015-12-31</th>\n",
       "      <td>59593.75</td>\n",
       "    </tr>\n",
       "  </tbody>\n",
       "</table>\n",
       "</div>"
      ],
      "text/plain": [
       "                  Amount\n",
       "Month_Invoiced          \n",
       "2015-01-31      55033.75\n",
       "2015-02-28      55608.75\n",
       "2015-03-31      56113.75\n",
       "2015-04-30      56648.75\n",
       "2015-05-31      57113.75\n",
       "2015-06-30      57573.75\n",
       "2015-07-31      58193.75\n",
       "2015-08-31      58583.75\n",
       "2015-09-30      59073.75\n",
       "2015-10-31      59533.75\n",
       "2015-11-30      59348.75\n",
       "2015-12-31      59593.75"
      ]
     },
     "execution_count": 95,
     "metadata": {},
     "output_type": "execute_result"
    }
   ],
   "source": [
    "yhat_df = train['2015'] + train.diff(12).mean()\n",
    "yhat_df"
   ]
  },
  {
   "cell_type": "code",
   "execution_count": 96,
   "id": "c978388c",
   "metadata": {},
   "outputs": [
    {
     "data": {
      "text/plain": [
       "Amount    8088.75\n",
       "dtype: float64"
      ]
     },
     "execution_count": 96,
     "metadata": {},
     "output_type": "execute_result"
    }
   ],
   "source": [
    "train.diff(12).mean()"
   ]
  },
  {
   "cell_type": "code",
   "execution_count": 97,
   "id": "9707e413",
   "metadata": {},
   "outputs": [
    {
     "data": {
      "text/html": [
       "<div>\n",
       "<style scoped>\n",
       "    .dataframe tbody tr th:only-of-type {\n",
       "        vertical-align: middle;\n",
       "    }\n",
       "\n",
       "    .dataframe tbody tr th {\n",
       "        vertical-align: top;\n",
       "    }\n",
       "\n",
       "    .dataframe thead th {\n",
       "        text-align: right;\n",
       "    }\n",
       "</style>\n",
       "<table border=\"1\" class=\"dataframe\">\n",
       "  <thead>\n",
       "    <tr style=\"text-align: right;\">\n",
       "      <th></th>\n",
       "      <th>Amount</th>\n",
       "    </tr>\n",
       "    <tr>\n",
       "      <th>Month_Invoiced</th>\n",
       "      <th></th>\n",
       "    </tr>\n",
       "  </thead>\n",
       "  <tbody>\n",
       "    <tr>\n",
       "      <th>2015-01-31</th>\n",
       "      <td>46945.0</td>\n",
       "    </tr>\n",
       "    <tr>\n",
       "      <th>2015-02-28</th>\n",
       "      <td>47520.0</td>\n",
       "    </tr>\n",
       "    <tr>\n",
       "      <th>2015-03-31</th>\n",
       "      <td>48025.0</td>\n",
       "    </tr>\n",
       "    <tr>\n",
       "      <th>2015-04-30</th>\n",
       "      <td>48560.0</td>\n",
       "    </tr>\n",
       "    <tr>\n",
       "      <th>2015-05-31</th>\n",
       "      <td>49025.0</td>\n",
       "    </tr>\n",
       "  </tbody>\n",
       "</table>\n",
       "</div>"
      ],
      "text/plain": [
       "                 Amount\n",
       "Month_Invoiced         \n",
       "2015-01-31      46945.0\n",
       "2015-02-28      47520.0\n",
       "2015-03-31      48025.0\n",
       "2015-04-30      48560.0\n",
       "2015-05-31      49025.0"
      ]
     },
     "execution_count": 97,
     "metadata": {},
     "output_type": "execute_result"
    }
   ],
   "source": [
    "train.loc['2015'].head()"
   ]
  },
  {
   "cell_type": "code",
   "execution_count": 98,
   "id": "cb9a0921",
   "metadata": {},
   "outputs": [
    {
     "data": {
      "text/html": [
       "<div>\n",
       "<style scoped>\n",
       "    .dataframe tbody tr th:only-of-type {\n",
       "        vertical-align: middle;\n",
       "    }\n",
       "\n",
       "    .dataframe tbody tr th {\n",
       "        vertical-align: top;\n",
       "    }\n",
       "\n",
       "    .dataframe thead th {\n",
       "        text-align: right;\n",
       "    }\n",
       "</style>\n",
       "<table border=\"1\" class=\"dataframe\">\n",
       "  <thead>\n",
       "    <tr style=\"text-align: right;\">\n",
       "      <th></th>\n",
       "      <th>Amount</th>\n",
       "    </tr>\n",
       "    <tr>\n",
       "      <th>Month_Invoiced</th>\n",
       "      <th></th>\n",
       "    </tr>\n",
       "  </thead>\n",
       "  <tbody>\n",
       "    <tr>\n",
       "      <th>2015-01-31</th>\n",
       "      <td>55033.75</td>\n",
       "    </tr>\n",
       "    <tr>\n",
       "      <th>2016-01-31</th>\n",
       "      <td>51955.00</td>\n",
       "    </tr>\n",
       "  </tbody>\n",
       "</table>\n",
       "</div>"
      ],
      "text/plain": [
       "                  Amount\n",
       "Month_Invoiced          \n",
       "2015-01-31      55033.75\n",
       "2016-01-31      51955.00"
      ]
     },
     "execution_count": 98,
     "metadata": {},
     "output_type": "execute_result"
    }
   ],
   "source": [
    "pd.concat([yhat_df.head(1), val.head(1)])"
   ]
  },
  {
   "cell_type": "code",
   "execution_count": 99,
   "id": "67368954",
   "metadata": {},
   "outputs": [],
   "source": [
    "yhat_df.index = val.index"
   ]
  },
  {
   "cell_type": "code",
   "execution_count": 100,
   "id": "76146924",
   "metadata": {},
   "outputs": [
    {
     "name": "stdout",
     "output_type": "stream",
     "text": [
      "Amount -- RMSE: 5192\n"
     ]
    },
    {
     "data": {
      "image/png": "[encoded data removed]",
      "text/plain": [
       "<Figure size 1200x400 with 1 Axes>"
      ]
     },
     "metadata": {},
     "output_type": "display_data"
    }
   ],
   "source": [
    "for col in train.columns:\n",
    "    plot_and_eval(target_var = col)\n",
    "    eval_df = append_eval_df(model_type = \"previous_year\", \n",
    "                            target_var = col)"
   ]
  },
  {
   "cell_type": "code",
   "execution_count": 101,
   "id": "5f9993d0",
   "metadata": {},
   "outputs": [
    {
     "data": {
      "text/html": [
       "<div>\n",
       "<style scoped>\n",
       "    .dataframe tbody tr th:only-of-type {\n",
       "        vertical-align: middle;\n",
       "    }\n",
       "\n",
       "    .dataframe tbody tr th {\n",
       "        vertical-align: top;\n",
       "    }\n",
       "\n",
       "    .dataframe thead th {\n",
       "        text-align: right;\n",
       "    }\n",
       "</style>\n",
       "<table border=\"1\" class=\"dataframe\">\n",
       "  <thead>\n",
       "    <tr style=\"text-align: right;\">\n",
       "      <th></th>\n",
       "      <th>model_type</th>\n",
       "      <th>target_var</th>\n",
       "      <th>rmse</th>\n",
       "    </tr>\n",
       "  </thead>\n",
       "  <tbody>\n",
       "    <tr>\n",
       "      <th>7</th>\n",
       "      <td>holts_optimized</td>\n",
       "      <td>Amount</td>\n",
       "      <td>456.0</td>\n",
       "    </tr>\n",
       "    <tr>\n",
       "      <th>0</th>\n",
       "      <td>last_observed_value</td>\n",
       "      <td>Amount</td>\n",
       "      <td>1343.0</td>\n",
       "    </tr>\n",
       "    <tr>\n",
       "      <th>3</th>\n",
       "      <td>1_day_moving_avg</td>\n",
       "      <td>Amount</td>\n",
       "      <td>1343.0</td>\n",
       "    </tr>\n",
       "    <tr>\n",
       "      <th>2</th>\n",
       "      <td>3m_moving_avg</td>\n",
       "      <td>Amount</td>\n",
       "      <td>1436.0</td>\n",
       "    </tr>\n",
       "    <tr>\n",
       "      <th>5</th>\n",
       "      <td>3_day_moving_avg</td>\n",
       "      <td>Amount</td>\n",
       "      <td>1436.0</td>\n",
       "    </tr>\n",
       "    <tr>\n",
       "      <th>4</th>\n",
       "      <td>2_day_moving_avg</td>\n",
       "      <td>Amount</td>\n",
       "      <td>1455.0</td>\n",
       "    </tr>\n",
       "    <tr>\n",
       "      <th>8</th>\n",
       "      <td>holts_seasonal_add_add</td>\n",
       "      <td>Amount</td>\n",
       "      <td>1502.0</td>\n",
       "    </tr>\n",
       "    <tr>\n",
       "      <th>6</th>\n",
       "      <td>5_day_moving_avg</td>\n",
       "      <td>Amount</td>\n",
       "      <td>1684.0</td>\n",
       "    </tr>\n",
       "    <tr>\n",
       "      <th>9</th>\n",
       "      <td>previous_year</td>\n",
       "      <td>Amount</td>\n",
       "      <td>5192.0</td>\n",
       "    </tr>\n",
       "    <tr>\n",
       "      <th>1</th>\n",
       "      <td>simple_average</td>\n",
       "      <td>Amount</td>\n",
       "      <td>7181.0</td>\n",
       "    </tr>\n",
       "  </tbody>\n",
       "</table>\n",
       "</div>"
      ],
      "text/plain": [
       "               model_type target_var    rmse\n",
       "7         holts_optimized     Amount   456.0\n",
       "0     last_observed_value     Amount  1343.0\n",
       "3        1_day_moving_avg     Amount  1343.0\n",
       "2           3m_moving_avg     Amount  1436.0\n",
       "5        3_day_moving_avg     Amount  1436.0\n",
       "4        2_day_moving_avg     Amount  1455.0\n",
       "8  holts_seasonal_add_add     Amount  1502.0\n",
       "6        5_day_moving_avg     Amount  1684.0\n",
       "9           previous_year     Amount  5192.0\n",
       "1          simple_average     Amount  7181.0"
      ]
     },
     "execution_count": 101,
     "metadata": {},
     "output_type": "execute_result"
    }
   ],
   "source": [
    "eval_df.sort_values(by='rmse')"
   ]
  },
  {
   "cell_type": "code",
   "execution_count": 102,
   "id": "a5b39642",
   "metadata": {},
   "outputs": [
    {
     "data": {
      "text/html": [
       "<div>\n",
       "<style scoped>\n",
       "    .dataframe tbody tr th:only-of-type {\n",
       "        vertical-align: middle;\n",
       "    }\n",
       "\n",
       "    .dataframe tbody tr th {\n",
       "        vertical-align: top;\n",
       "    }\n",
       "\n",
       "    .dataframe thead th {\n",
       "        text-align: right;\n",
       "    }\n",
       "</style>\n",
       "<table border=\"1\" class=\"dataframe\">\n",
       "  <thead>\n",
       "    <tr style=\"text-align: right;\">\n",
       "      <th></th>\n",
       "      <th>model_type</th>\n",
       "      <th>target_var</th>\n",
       "      <th>rmse</th>\n",
       "    </tr>\n",
       "  </thead>\n",
       "  <tbody>\n",
       "    <tr>\n",
       "      <th>7</th>\n",
       "      <td>holts_optimized</td>\n",
       "      <td>Amount</td>\n",
       "      <td>456.0</td>\n",
       "    </tr>\n",
       "  </tbody>\n",
       "</table>\n",
       "</div>"
      ],
      "text/plain": [
       "        model_type target_var   rmse\n",
       "7  holts_optimized     Amount  456.0"
      ]
     },
     "execution_count": 102,
     "metadata": {},
     "output_type": "execute_result"
    }
   ],
   "source": [
    "amount_min_rmse = eval_df.groupby('target_var')['rmse'].min()[0]\n",
    "\n",
    "# find which model that is\n",
    "eval_df[((eval_df.rmse == amount_min_rmse))]"
   ]
  },
  {
   "cell_type": "code",
   "execution_count": 103,
   "id": "0b378659",
   "metadata": {},
   "outputs": [],
   "source": [
    "train = df_resampled[:train_size]\n",
    "val = df_resampled[train_size:validate_end_index]\n",
    "test = df_resampled[validate_end_index:]"
   ]
  },
  {
   "cell_type": "code",
   "execution_count": 115,
   "id": "645bb61b",
   "metadata": {},
   "outputs": [
    {
     "data": {
      "text/html": [
       "<div>\n",
       "<style scoped>\n",
       "    .dataframe tbody tr th:only-of-type {\n",
       "        vertical-align: middle;\n",
       "    }\n",
       "\n",
       "    .dataframe tbody tr th {\n",
       "        vertical-align: top;\n",
       "    }\n",
       "\n",
       "    .dataframe thead th {\n",
       "        text-align: right;\n",
       "    }\n",
       "</style>\n",
       "<table border=\"1\" class=\"dataframe\">\n",
       "  <thead>\n",
       "    <tr style=\"text-align: right;\">\n",
       "      <th></th>\n",
       "      <th>Amount</th>\n",
       "    </tr>\n",
       "  </thead>\n",
       "  <tbody>\n",
       "    <tr>\n",
       "      <th>2016-01-31</th>\n",
       "      <td>50664.684239</td>\n",
       "    </tr>\n",
       "    <tr>\n",
       "      <th>2016-02-29</th>\n",
       "      <td>52217.428386</td>\n",
       "    </tr>\n",
       "    <tr>\n",
       "      <th>2016-03-31</th>\n",
       "      <td>52552.052536</td>\n",
       "    </tr>\n",
       "    <tr>\n",
       "      <th>2016-04-30</th>\n",
       "      <td>52800.651668</td>\n",
       "    </tr>\n",
       "    <tr>\n",
       "      <th>2016-05-31</th>\n",
       "      <td>53159.313742</td>\n",
       "    </tr>\n",
       "    <tr>\n",
       "      <th>2016-06-30</th>\n",
       "      <td>53441.400957</td>\n",
       "    </tr>\n",
       "    <tr>\n",
       "      <th>2016-07-31</th>\n",
       "      <td>53897.114054</td>\n",
       "    </tr>\n",
       "    <tr>\n",
       "      <th>2016-08-31</th>\n",
       "      <td>54306.650282</td>\n",
       "    </tr>\n",
       "    <tr>\n",
       "      <th>2016-09-30</th>\n",
       "      <td>54712.659129</td>\n",
       "    </tr>\n",
       "    <tr>\n",
       "      <th>2016-10-31</th>\n",
       "      <td>55152.870112</td>\n",
       "    </tr>\n",
       "    <tr>\n",
       "      <th>2016-11-30</th>\n",
       "      <td>55220.408795</td>\n",
       "    </tr>\n",
       "    <tr>\n",
       "      <th>2016-12-31</th>\n",
       "      <td>55488.000113</td>\n",
       "    </tr>\n",
       "    <tr>\n",
       "      <th>2017-01-31</th>\n",
       "      <td>54644.569319</td>\n",
       "    </tr>\n",
       "    <tr>\n",
       "      <th>2017-02-28</th>\n",
       "      <td>56197.313466</td>\n",
       "    </tr>\n",
       "    <tr>\n",
       "      <th>2017-03-31</th>\n",
       "      <td>56531.937616</td>\n",
       "    </tr>\n",
       "    <tr>\n",
       "      <th>2017-04-30</th>\n",
       "      <td>56780.536749</td>\n",
       "    </tr>\n",
       "    <tr>\n",
       "      <th>2017-05-31</th>\n",
       "      <td>57139.198823</td>\n",
       "    </tr>\n",
       "    <tr>\n",
       "      <th>2017-06-30</th>\n",
       "      <td>57421.286038</td>\n",
       "    </tr>\n",
       "    <tr>\n",
       "      <th>2017-07-31</th>\n",
       "      <td>57876.999135</td>\n",
       "    </tr>\n",
       "    <tr>\n",
       "      <th>2017-08-31</th>\n",
       "      <td>58286.535362</td>\n",
       "    </tr>\n",
       "    <tr>\n",
       "      <th>2017-09-30</th>\n",
       "      <td>58692.544209</td>\n",
       "    </tr>\n",
       "    <tr>\n",
       "      <th>2017-10-31</th>\n",
       "      <td>59132.755193</td>\n",
       "    </tr>\n",
       "    <tr>\n",
       "      <th>2017-11-30</th>\n",
       "      <td>59200.293875</td>\n",
       "    </tr>\n",
       "    <tr>\n",
       "      <th>2017-12-31</th>\n",
       "      <td>59467.885193</td>\n",
       "    </tr>\n",
       "  </tbody>\n",
       "</table>\n",
       "</div>"
      ],
      "text/plain": [
       "                  Amount\n",
       "2016-01-31  50664.684239\n",
       "2016-02-29  52217.428386\n",
       "2016-03-31  52552.052536\n",
       "2016-04-30  52800.651668\n",
       "2016-05-31  53159.313742\n",
       "2016-06-30  53441.400957\n",
       "2016-07-31  53897.114054\n",
       "2016-08-31  54306.650282\n",
       "2016-09-30  54712.659129\n",
       "2016-10-31  55152.870112\n",
       "2016-11-30  55220.408795\n",
       "2016-12-31  55488.000113\n",
       "2017-01-31  54644.569319\n",
       "2017-02-28  56197.313466\n",
       "2017-03-31  56531.937616\n",
       "2017-04-30  56780.536749\n",
       "2017-05-31  57139.198823\n",
       "2017-06-30  57421.286038\n",
       "2017-07-31  57876.999135\n",
       "2017-08-31  58286.535362\n",
       "2017-09-30  58692.544209\n",
       "2017-10-31  59132.755193\n",
       "2017-11-30  59200.293875\n",
       "2017-12-31  59467.885193"
      ]
     },
     "execution_count": 115,
     "metadata": {},
     "output_type": "execute_result"
    }
   ],
   "source": [
    "yhat_df = pd.DataFrame({'Amount': hst_amount_fit1.forecast(val.shape[0] + test.shape[0])})\n",
    "yhat_df"
   ]
  },
  {
   "cell_type": "code",
   "execution_count": 120,
   "id": "834fa53d",
   "metadata": {},
   "outputs": [
    {
     "data": {
      "text/html": [
       "<div>\n",
       "<style scoped>\n",
       "    .dataframe tbody tr th:only-of-type {\n",
       "        vertical-align: middle;\n",
       "    }\n",
       "\n",
       "    .dataframe tbody tr th {\n",
       "        vertical-align: top;\n",
       "    }\n",
       "\n",
       "    .dataframe thead th {\n",
       "        text-align: right;\n",
       "    }\n",
       "</style>\n",
       "<table border=\"1\" class=\"dataframe\">\n",
       "  <thead>\n",
       "    <tr style=\"text-align: right;\">\n",
       "      <th></th>\n",
       "      <th>Amount</th>\n",
       "    </tr>\n",
       "    <tr>\n",
       "      <th>Month_Invoiced</th>\n",
       "      <th></th>\n",
       "    </tr>\n",
       "  </thead>\n",
       "  <tbody>\n",
       "    <tr>\n",
       "      <th>2017-03-31</th>\n",
       "      <td>53480.0</td>\n",
       "    </tr>\n",
       "    <tr>\n",
       "      <th>2017-04-30</th>\n",
       "      <td>53350.0</td>\n",
       "    </tr>\n",
       "    <tr>\n",
       "      <th>2017-05-31</th>\n",
       "      <td>53340.0</td>\n",
       "    </tr>\n",
       "    <tr>\n",
       "      <th>2017-06-30</th>\n",
       "      <td>53405.0</td>\n",
       "    </tr>\n",
       "    <tr>\n",
       "      <th>2017-07-31</th>\n",
       "      <td>53680.0</td>\n",
       "    </tr>\n",
       "    <tr>\n",
       "      <th>2017-08-31</th>\n",
       "      <td>53820.0</td>\n",
       "    </tr>\n",
       "    <tr>\n",
       "      <th>2017-09-30</th>\n",
       "      <td>53925.0</td>\n",
       "    </tr>\n",
       "    <tr>\n",
       "      <th>2017-10-31</th>\n",
       "      <td>53850.0</td>\n",
       "    </tr>\n",
       "    <tr>\n",
       "      <th>2017-11-30</th>\n",
       "      <td>53860.0</td>\n",
       "    </tr>\n",
       "    <tr>\n",
       "      <th>2017-12-31</th>\n",
       "      <td>53805.0</td>\n",
       "    </tr>\n",
       "  </tbody>\n",
       "</table>\n",
       "</div>"
      ],
      "text/plain": [
       "                 Amount\n",
       "Month_Invoiced         \n",
       "2017-03-31      53480.0\n",
       "2017-04-30      53350.0\n",
       "2017-05-31      53340.0\n",
       "2017-06-30      53405.0\n",
       "2017-07-31      53680.0\n",
       "2017-08-31      53820.0\n",
       "2017-09-30      53925.0\n",
       "2017-10-31      53850.0\n",
       "2017-11-30      53860.0\n",
       "2017-12-31      53805.0"
      ]
     },
     "execution_count": 120,
     "metadata": {},
     "output_type": "execute_result"
    }
   ],
   "source": [
    "test"
   ]
  },
  {
   "cell_type": "code",
   "execution_count": 121,
   "id": "9d4e9439",
   "metadata": {},
   "outputs": [],
   "source": [
    "yhat_df = yhat_df['2017-03-01':]"
   ]
  },
  {
   "cell_type": "code",
   "execution_count": 116,
   "id": "c4792cfe",
   "metadata": {},
   "outputs": [],
   "source": [
    "def final_plot(target_var):\n",
    "    plt.figure(figsize=(12,4))\n",
    "    plt.plot(train[target_var], color='#377eb8', label='train')\n",
    "    plt.plot(val[target_var], color='#ff7f00', label='validate')\n",
    "    plt.plot(test[target_var], color='#4daf4a',label='test')\n",
    "    plt.plot(yhat_df[target_var], color='#a65628', label='yhat')\n",
    "    plt.legend()\n",
    "    plt.title(target_var)\n",
    "    plt.show()"
   ]
  },
  {
   "cell_type": "code",
   "execution_count": 117,
   "id": "b869672d",
   "metadata": {},
   "outputs": [
    {
     "data": {
      "text/html": [
       "<div>\n",
       "<style scoped>\n",
       "    .dataframe tbody tr th:only-of-type {\n",
       "        vertical-align: middle;\n",
       "    }\n",
       "\n",
       "    .dataframe tbody tr th {\n",
       "        vertical-align: top;\n",
       "    }\n",
       "\n",
       "    .dataframe thead th {\n",
       "        text-align: right;\n",
       "    }\n",
       "</style>\n",
       "<table border=\"1\" class=\"dataframe\">\n",
       "  <thead>\n",
       "    <tr style=\"text-align: right;\">\n",
       "      <th></th>\n",
       "      <th>Amount</th>\n",
       "    </tr>\n",
       "  </thead>\n",
       "  <tbody>\n",
       "    <tr>\n",
       "      <th>2016-01-31</th>\n",
       "      <td>50664.684239</td>\n",
       "    </tr>\n",
       "    <tr>\n",
       "      <th>2016-02-29</th>\n",
       "      <td>52217.428386</td>\n",
       "    </tr>\n",
       "    <tr>\n",
       "      <th>2016-03-31</th>\n",
       "      <td>52552.052536</td>\n",
       "    </tr>\n",
       "    <tr>\n",
       "      <th>2016-04-30</th>\n",
       "      <td>52800.651668</td>\n",
       "    </tr>\n",
       "    <tr>\n",
       "      <th>2016-05-31</th>\n",
       "      <td>53159.313742</td>\n",
       "    </tr>\n",
       "    <tr>\n",
       "      <th>2016-06-30</th>\n",
       "      <td>53441.400957</td>\n",
       "    </tr>\n",
       "    <tr>\n",
       "      <th>2016-07-31</th>\n",
       "      <td>53897.114054</td>\n",
       "    </tr>\n",
       "    <tr>\n",
       "      <th>2016-08-31</th>\n",
       "      <td>54306.650282</td>\n",
       "    </tr>\n",
       "    <tr>\n",
       "      <th>2016-09-30</th>\n",
       "      <td>54712.659129</td>\n",
       "    </tr>\n",
       "    <tr>\n",
       "      <th>2016-10-31</th>\n",
       "      <td>55152.870112</td>\n",
       "    </tr>\n",
       "    <tr>\n",
       "      <th>2016-11-30</th>\n",
       "      <td>55220.408795</td>\n",
       "    </tr>\n",
       "    <tr>\n",
       "      <th>2016-12-31</th>\n",
       "      <td>55488.000113</td>\n",
       "    </tr>\n",
       "    <tr>\n",
       "      <th>2017-01-31</th>\n",
       "      <td>54644.569319</td>\n",
       "    </tr>\n",
       "    <tr>\n",
       "      <th>2017-02-28</th>\n",
       "      <td>56197.313466</td>\n",
       "    </tr>\n",
       "    <tr>\n",
       "      <th>2017-03-31</th>\n",
       "      <td>56531.937616</td>\n",
       "    </tr>\n",
       "    <tr>\n",
       "      <th>2017-04-30</th>\n",
       "      <td>56780.536749</td>\n",
       "    </tr>\n",
       "    <tr>\n",
       "      <th>2017-05-31</th>\n",
       "      <td>57139.198823</td>\n",
       "    </tr>\n",
       "    <tr>\n",
       "      <th>2017-06-30</th>\n",
       "      <td>57421.286038</td>\n",
       "    </tr>\n",
       "    <tr>\n",
       "      <th>2017-07-31</th>\n",
       "      <td>57876.999135</td>\n",
       "    </tr>\n",
       "    <tr>\n",
       "      <th>2017-08-31</th>\n",
       "      <td>58286.535362</td>\n",
       "    </tr>\n",
       "    <tr>\n",
       "      <th>2017-09-30</th>\n",
       "      <td>58692.544209</td>\n",
       "    </tr>\n",
       "    <tr>\n",
       "      <th>2017-10-31</th>\n",
       "      <td>59132.755193</td>\n",
       "    </tr>\n",
       "    <tr>\n",
       "      <th>2017-11-30</th>\n",
       "      <td>59200.293875</td>\n",
       "    </tr>\n",
       "    <tr>\n",
       "      <th>2017-12-31</th>\n",
       "      <td>59467.885193</td>\n",
       "    </tr>\n",
       "  </tbody>\n",
       "</table>\n",
       "</div>"
      ],
      "text/plain": [
       "                  Amount\n",
       "2016-01-31  50664.684239\n",
       "2016-02-29  52217.428386\n",
       "2016-03-31  52552.052536\n",
       "2016-04-30  52800.651668\n",
       "2016-05-31  53159.313742\n",
       "2016-06-30  53441.400957\n",
       "2016-07-31  53897.114054\n",
       "2016-08-31  54306.650282\n",
       "2016-09-30  54712.659129\n",
       "2016-10-31  55152.870112\n",
       "2016-11-30  55220.408795\n",
       "2016-12-31  55488.000113\n",
       "2017-01-31  54644.569319\n",
       "2017-02-28  56197.313466\n",
       "2017-03-31  56531.937616\n",
       "2017-04-30  56780.536749\n",
       "2017-05-31  57139.198823\n",
       "2017-06-30  57421.286038\n",
       "2017-07-31  57876.999135\n",
       "2017-08-31  58286.535362\n",
       "2017-09-30  58692.544209\n",
       "2017-10-31  59132.755193\n",
       "2017-11-30  59200.293875\n",
       "2017-12-31  59467.885193"
      ]
     },
     "execution_count": 117,
     "metadata": {},
     "output_type": "execute_result"
    }
   ],
   "source": [
    "yhat_df"
   ]
  },
  {
   "cell_type": "code",
   "execution_count": 122,
   "id": "a0656d20",
   "metadata": {},
   "outputs": [],
   "source": [
    "rmse_amount_total = sqrt(mean_squared_error(test['Amount'], \n",
    "                                       yhat_df['Amount']))"
   ]
  },
  {
   "cell_type": "code",
   "execution_count": 125,
   "id": "a16cad92",
   "metadata": {},
   "outputs": [
    {
     "name": "stdout",
     "output_type": "stream",
     "text": [
      "FINAL PERFORMANCE OF MODEL ON TEST DATA\n",
      "rmse-sales total:  4477.009027449267\n"
     ]
    },
    {
     "data": {
      "image/png": "[encoded data removed]",
      "text/plain": [
       "<Figure size 1200x400 with 1 Axes>"
      ]
     },
     "metadata": {},
     "output_type": "display_data"
    }
   ],
   "source": [
    "print('FINAL PERFORMANCE OF MODEL ON TEST DATA')\n",
    "print('rmse-sales total: ', rmse_amount_total)\n",
    "for col in train.columns:\n",
    "    final_plot(col)"
   ]
  },
  {
   "cell_type": "code",
   "execution_count": null,
   "id": "0f71f36b",
   "metadata": {},
   "outputs": [],
   "source": []
  }
 ],
 "metadata": {
  "kernelspec": {
   "display_name": "Python 3 (ipykernel)",
   "language": "python",
   "name": "python3"
  },
  "language_info": {
   "codemirror_mode": {
    "name": "ipython",
    "version": 3
   },
   "file_extension": ".py",
   "mimetype": "text/x-python",
   "name": "python",
   "nbconvert_exporter": "python",
   "pygments_lexer": "ipython3",
   "version": "3.9.13"
  }
 },
 "nbformat": 4,
 "nbformat_minor": 5
}
